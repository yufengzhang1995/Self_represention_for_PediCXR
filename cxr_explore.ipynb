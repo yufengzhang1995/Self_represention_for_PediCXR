{
 "cells": [
  {
   "cell_type": "code",
   "execution_count": 1,
   "id": "ad24e2dc-4291-440a-b354-f6d339c1ef02",
   "metadata": {},
   "outputs": [
    {
     "name": "stderr",
     "output_type": "stream",
     "text": [
      "/home/chloezh/miniconda3/envs/pytorch_env/lib/python3.9/site-packages/tqdm/auto.py:22: TqdmWarning: IProgress not found. Please update jupyter and ipywidgets. See https://ipywidgets.readthedocs.io/en/stable/user_install.html\n",
      "  from .autonotebook import tqdm as notebook_tqdm\n"
     ]
    }
   ],
   "source": [
    " import cv2\n",
    "import numpy as np\n",
    "import torch\n",
    "from torch.utils.data import Dataset\n",
    "from sklearn.model_selection import train_test_split\n",
    "import pandas as pd\n",
    "import os"
   ]
  },
  {
   "cell_type": "code",
   "execution_count": 40,
   "id": "ccb357be-f81a-4eaf-a9f8-9c3f21d3eeae",
   "metadata": {},
   "outputs": [],
   "source": [
    "import dask.dataframe as dd\n",
    "import datetime as dt"
   ]
  },
  {
   "cell_type": "code",
   "execution_count": 38,
   "id": "5a178b8c-312d-40be-8a9a-667898faed46",
   "metadata": {},
   "outputs": [],
   "source": [
    "from tqdm import tqdm"
   ]
  },
  {
   "cell_type": "markdown",
   "id": "1f038bb8-9b1e-4277-bfea-1e90c18f1ef4",
   "metadata": {},
   "source": [
    "### Hospital"
   ]
  },
  {
   "cell_type": "code",
   "execution_count": 46,
   "id": "b4712a91-6541-4e24-990c-e99d72e7c874",
   "metadata": {},
   "outputs": [],
   "source": [
    "core_mimiciv_path = '/nfs/turbo/med-kayvan-lab/Projects/HeartFailure/Data/Raw/physionet.org/files/mimiciv/2.2/'"
   ]
  },
  {
   "cell_type": "code",
   "execution_count": 14,
   "id": "675152d0-0b57-4152-9199-7b614cb8483c",
   "metadata": {},
   "outputs": [],
   "source": [
    "df_admissions = dd.read_csv(core_mimiciv_path + 'hosp/admissions.csv', assume_missing=True, dtype={'admission_location': 'object','deathtime': 'object','edouttime': 'object','edregtime': 'object'})\n",
    "df_patients = dd.read_csv(core_mimiciv_path + 'hosp/patients.csv', assume_missing=True, dtype={'dod': 'object'})  \n",
    "df_transfers = dd.read_csv(core_mimiciv_path + 'hosp/transfers.csv', assume_missing=True, dtype={'careunit': 'object'})"
   ]
  },
  {
   "cell_type": "code",
   "execution_count": 15,
   "id": "ea2794d8-2890-4ef6-b9a8-134214a3d117",
   "metadata": {},
   "outputs": [],
   "source": [
    "df_d_labitems = dd.read_csv(core_mimiciv_path + 'hosp/d_labitems.csv', assume_missing=True, dtype={'loinc_code': 'object'})\n",
    "df_d_icd_procedures = dd.read_csv(core_mimiciv_path + 'hosp/d_icd_procedures.csv', assume_missing=True, dtype={'icd_code': 'object', 'icd_version': 'object'})\n",
    "df_d_icd_diagnoses = dd.read_csv(core_mimiciv_path + 'hosp/d_icd_diagnoses.csv', assume_missing=True, dtype={'icd_code': 'object', 'icd_version': 'object'})\n",
    "df_d_hcpcs = dd.read_csv(core_mimiciv_path + 'hosp/d_hcpcs.csv', assume_missing=True, dtype={'category': 'object'})\n",
    "df_diagnoses_icd = dd.read_csv(core_mimiciv_path + 'hosp/diagnoses_icd.csv', assume_missing=True, dtype={'icd_code': 'object', 'icd_version': 'object'})\n",
    "df_drgcodes = dd.read_csv(core_mimiciv_path + 'hosp/drgcodes.csv', assume_missing=True)\n",
    "df_emar = dd.read_csv(core_mimiciv_path + 'hosp/emar.csv', assume_missing=True)\n",
    "df_emar_detail = dd.read_csv(core_mimiciv_path + 'hosp/emar_detail.csv', assume_missing=True, low_memory=False, dtype={'completion_interval': 'object','dose_due': 'object','dose_given': 'object','infusion_complete': 'object','infusion_rate_adjustment': 'object','infusion_rate_unit': 'object','new_iv_bag_hung': 'object','product_description_other': 'object','reason_for_no_barcode': 'object','restart_interval': 'object','route': 'object','side': 'object','site': 'object','continued_infusion_in_other_location': 'object','infusion_rate': 'object','non_formulary_visual_verification': 'object','prior_infusion_rate': 'object','product_amount_given': 'object', 'infusion_rate_adjustment_amount': 'object'})\n",
    "df_hcpcsevents = dd.read_csv(core_mimiciv_path + 'hosp/hcpcsevents.csv', assume_missing=True, dtype={'hcpcs_cd': 'object'})\n",
    "df_labevents = dd.read_csv(core_mimiciv_path + 'hosp/labevents.csv', assume_missing=True, dtype={'storetime': 'object', 'value': 'object', 'valueuom': 'object', 'flag': 'object', 'priority': 'object', 'comments': 'object'})\n",
    "df_microbiologyevents = dd.read_csv(core_mimiciv_path + 'hosp/microbiologyevents.csv', assume_missing=True, dtype={'comments': 'object', 'quantity': 'object'})\n",
    "df_poe = dd.read_csv(core_mimiciv_path + 'hosp/poe.csv', assume_missing=True, dtype={'discontinue_of_poe_id': 'object','discontinued_by_poe_id': 'object','order_status': 'object'})\n",
    "df_poe_detail = dd.read_csv(core_mimiciv_path + 'hosp/poe_detail.csv', assume_missing=True)\n",
    "df_prescriptions = dd.read_csv(core_mimiciv_path + 'hosp/prescriptions.csv', assume_missing=True, dtype={'form_rx': 'object','gsn': 'object'})\n",
    "df_procedures_icd = dd.read_csv(core_mimiciv_path + 'hosp/procedures_icd.csv', assume_missing=True, dtype={'icd_code': 'object', 'icd_version': 'object'})\n",
    "df_services = dd.read_csv(core_mimiciv_path + 'hosp/services.csv', assume_missing=True, dtype={'prev_service': 'object'})"
   ]
  },
  {
   "cell_type": "markdown",
   "id": "ec21f4f3-8c47-402b-a7a9-f9bc733ab13d",
   "metadata": {},
   "source": [
    "### ICU"
   ]
  },
  {
   "cell_type": "code",
   "execution_count": 18,
   "id": "3fc046e3-efe2-4f8b-adca-519e8aadaaa5",
   "metadata": {},
   "outputs": [],
   "source": [
    "## ICU\n",
    "df_d_items = dd.read_csv(core_mimiciv_path + 'icu/d_items.csv', assume_missing=True)\n",
    "df_procedureevents = dd.read_csv(core_mimiciv_path + 'icu/procedureevents.csv', assume_missing=True, dtype={'value': 'object', 'secondaryordercategoryname': 'object', 'totalamountuom': 'object'})\n",
    "df_outputevents = dd.read_csv(core_mimiciv_path + 'icu/outputevents.csv', assume_missing=True, dtype={'value': 'object'})\n",
    "df_inputevents = dd.read_csv(core_mimiciv_path + 'icu/inputevents.csv', assume_missing=True, dtype={'value': 'object', 'secondaryordercategoryname': 'object', 'totalamountuom': 'object'})\n",
    "df_icustays = dd.read_csv(core_mimiciv_path + 'icu/icustays.csv', assume_missing=True)\n",
    "df_datetimeevents = dd.read_csv(core_mimiciv_path + 'icu/datetimeevents.csv', assume_missing=True, dtype={'value': 'object'})\n",
    "df_chartevents = dd.read_csv(core_mimiciv_path + 'icu/chartevents.csv', assume_missing=True, low_memory=False, dtype={'value': 'object', 'valueuom': 'object'})"
   ]
  },
  {
   "cell_type": "markdown",
   "id": "2a1b8b72-f379-41e5-a311-3b5e5844a198",
   "metadata": {},
   "source": [
    "## CXR"
   ]
  },
  {
   "cell_type": "code",
   "execution_count": 2,
   "id": "9f59d250-37be-4b88-8162-e95b953ba779",
   "metadata": {},
   "outputs": [],
   "source": [
    "# data_path = 'data_clean'\n",
    "# img_path='./data/mimic-cxr-jpg/'"
   ]
  },
  {
   "cell_type": "code",
   "execution_count": 48,
   "id": "e72a9ab6-b598-4822-acea-c525348a7b4e",
   "metadata": {},
   "outputs": [],
   "source": [
    "core_mimiciv_imgcxr_path = '/nfs/turbo/med-kayvan-lab/Projects/HeartFailure/Data/Raw/physionet.org/files/'"
   ]
  },
  {
   "cell_type": "code",
   "execution_count": 49,
   "id": "1c6f7532-3269-4842-8f26-52b1481b07c7",
   "metadata": {},
   "outputs": [],
   "source": [
    "df_mimic_cxr_split = dd.read_csv(core_mimiciv_imgcxr_path + 'mimic-cxr-jpg/2.0.0/mimic-cxr-2.0.0-split.csv', assume_missing=True)\n",
    "df_mimic_cxr_chexpert = dd.read_csv(core_mimiciv_imgcxr_path + 'mimic-cxr-jpg/2.0.0/mimic-cxr-2.0.0-chexpert.csv', assume_missing=True)"
   ]
  },
  {
   "cell_type": "code",
   "execution_count": 34,
   "id": "7c80a77d-b867-4e08-b9c4-87610523c8be",
   "metadata": {},
   "outputs": [],
   "source": [
    "try:\n",
    "    df_mimic_cxr_metadata = dd.read_csv(core_mimiciv_path + 'mimic-cxr-jpg/2.0.0/mimic-cxr-2.0.0-metadata.csv', assume_missing=True, dtype={'dicom_id': 'object'}, blocksize=None)\n",
    "except:\n",
    "    df_mimic_cxr_metadata = pd.read_csv(core_mimiciv_path + 'mimic-cxr-jpg/2.0.0/mimic-cxr-2.0.0-metadata.csv', dtype={'dicom_id': 'object'})\n",
    "    df_mimic_cxr_metadata = dd.from_pandas(df_mimic_cxr_metadata, npartitions=7)\n",
    "df_mimic_cxr_negbio = dd.read_csv(core_mimiciv_path + 'mimic-cxr-jpg/2.0.0/mimic-cxr-2.0.0-negbio.csv', assume_missing=True)"
   ]
  },
  {
   "cell_type": "markdown",
   "id": "b30fdf01-e23a-4e69-893d-4df1385f4c47",
   "metadata": {},
   "source": [
    "### Fix data type issues to allow for merging"
   ]
  },
  {
   "cell_type": "code",
   "execution_count": 24,
   "id": "8bff4ebd-347f-4292-bcba-40c5a00de6e5",
   "metadata": {},
   "outputs": [],
   "source": [
    "## CORE\n",
    "df_admissions['admittime'] = dd.to_datetime(df_admissions['admittime'])\n",
    "df_admissions['dischtime'] = dd.to_datetime(df_admissions['dischtime'])\n",
    "df_admissions['deathtime'] = dd.to_datetime(df_admissions['deathtime'])\n",
    "df_admissions['edregtime'] = dd.to_datetime(df_admissions['edregtime'])\n",
    "df_admissions['edouttime'] = dd.to_datetime(df_admissions['edouttime'])\n",
    "\n",
    "df_transfers['intime'] = dd.to_datetime(df_transfers['intime'])\n",
    "df_transfers['outtime'] = dd.to_datetime(df_transfers['outtime'])\n",
    "\n",
    "\n",
    "## HOSP\n",
    "df_diagnoses_icd.icd_code = df_diagnoses_icd.icd_code.str.strip()\n",
    "df_diagnoses_icd.icd_version = df_diagnoses_icd.icd_version.str.strip()\n",
    "df_d_icd_diagnoses.icd_code = df_d_icd_diagnoses.icd_code.str.strip()\n",
    "df_d_icd_diagnoses.icd_version = df_d_icd_diagnoses.icd_version.str.strip()\n",
    "\n",
    "df_procedures_icd.icd_code = df_procedures_icd.icd_code.str.strip()\n",
    "df_procedures_icd.icd_version = df_procedures_icd.icd_version.str.strip()\n",
    "df_d_icd_procedures.icd_code = df_d_icd_procedures.icd_code.str.strip()\n",
    "df_d_icd_procedures.icd_version = df_d_icd_procedures.icd_version.str.strip()\n",
    "\n",
    "df_hcpcsevents.hcpcs_cd = df_hcpcsevents.hcpcs_cd.str.strip()\n",
    "df_d_hcpcs.code = df_d_hcpcs.code.str.strip()\n",
    "\n",
    "df_prescriptions['starttime'] = dd.to_datetime(df_prescriptions['starttime'])\n",
    "df_prescriptions['stoptime'] = dd.to_datetime(df_prescriptions['stoptime'])\n",
    "\n",
    "df_emar['charttime'] = dd.to_datetime(df_emar['charttime'])\n",
    "df_emar['scheduletime'] = dd.to_datetime(df_emar['scheduletime'])\n",
    "df_emar['storetime'] = dd.to_datetime(df_emar['storetime'])\n",
    "\n",
    "df_labevents['charttime'] = dd.to_datetime(df_labevents['charttime'])\n",
    "df_labevents['storetime'] = dd.to_datetime(df_labevents['storetime'])\n",
    "\n",
    "df_microbiologyevents['chartdate'] = dd.to_datetime(df_microbiologyevents['chartdate'])\n",
    "df_microbiologyevents['charttime'] = dd.to_datetime(df_microbiologyevents['charttime'])\n",
    "df_microbiologyevents['storedate'] = dd.to_datetime(df_microbiologyevents['storedate'])\n",
    "df_microbiologyevents['storetime'] = dd.to_datetime(df_microbiologyevents['storetime'])\n",
    "\n",
    "df_poe['ordertime'] = dd.to_datetime(df_poe['ordertime'])\n",
    "df_services['transfertime'] = dd.to_datetime(df_services['transfertime'])\n",
    "\n",
    "\n",
    "## ICU\n",
    "df_procedureevents['starttime'] = dd.to_datetime(df_procedureevents['starttime'])\n",
    "df_procedureevents['endtime'] = dd.to_datetime(df_procedureevents['endtime'])\n",
    "df_procedureevents['storetime'] = dd.to_datetime(df_procedureevents['storetime'])\n",
    "# df_procedureevents['comments_date'] = dd.to_datetime(df_procedureevents['comments_date'])\n",
    "\n",
    "df_outputevents['charttime'] = dd.to_datetime(df_outputevents['charttime'])\n",
    "df_outputevents['storetime'] = dd.to_datetime(df_outputevents['storetime'])\n",
    "\n",
    "df_inputevents['starttime'] = dd.to_datetime(df_inputevents['starttime'])\n",
    "df_inputevents['endtime'] = dd.to_datetime(df_inputevents['endtime'])\n",
    "df_inputevents['storetime'] = dd.to_datetime(df_inputevents['storetime'])\n",
    "\n",
    "df_icustays['intime'] = dd.to_datetime(df_icustays['intime'])\n",
    "df_icustays['outtime'] = dd.to_datetime(df_icustays['outtime'])\n",
    "\n",
    "df_datetimeevents['charttime'] = dd.to_datetime(df_datetimeevents['charttime'])\n",
    "df_datetimeevents['storetime'] = dd.to_datetime(df_datetimeevents['storetime'])\n",
    "\n",
    "df_chartevents['charttime'] = dd.to_datetime(df_chartevents['charttime'])\n",
    "df_chartevents['storetime'] = dd.to_datetime(df_chartevents['storetime'])"
   ]
  },
  {
   "cell_type": "code",
   "execution_count": 30,
   "id": "e8a42612-c3c8-4c1f-901b-f531d3bd1849",
   "metadata": {},
   "outputs": [],
   "source": [
    "# BUILD DATAFRAME OF IMAGES AND NOTES FOR MIMIC-IV CXR\n",
    "def build_mimic_cxr_jpg_dataframe(core_mimiciv_imgcxr_path, do_save=False):\n",
    "    # Inputs:\n",
    "    #   core_mimiciv_imgcxr_path -> Directory of CXR images and image notes\n",
    "    #   do_save -> Flag to save dataframe\n",
    "    #\n",
    "    # Outputs:\n",
    "    #   df_mimic_cxr_jpg -> CXR images and image notes Dataframe\n",
    "    df_mimic_cxr_jpg = pd.DataFrame()\n",
    "    mimic_cxr_jpg_dir = core_mimiciv_imgcxr_path\n",
    "    \n",
    "    #Figure out how many files we will read\n",
    "    file_count = 0\n",
    "    for subdir, dirs, files in os.walk(mimic_cxr_jpg_dir):\n",
    "        for file in files:\n",
    "            # Extract filename and extension to filter by CSV only\n",
    "            filename, extension = os.path.splitext(file)\n",
    "            if extension=='.txt':\n",
    "                file_count = file_count + 1\n",
    "                \n",
    "    #Setup progress bar\n",
    "    pbar = tqdm(total=file_count)\n",
    "    \n",
    "    #Iterate\n",
    "    for subdir, dirs, files in os.walk(mimic_cxr_jpg_dir):\n",
    "        for file in files:\n",
    "            # Extract filename and extension to filter by CSV only\n",
    "            filename, extension = os.path.splitext(file)\n",
    "            if extension=='.txt':\n",
    "                note = open(subdir + '/' + filename + extension, \"r\", errors='ignore')\n",
    "                img_note_text = note.read()\n",
    "                note.close()\n",
    "                img_folder = subdir + '/' + filename\n",
    "                \n",
    "                for img_subdir, img_dirs, img_files in os.walk(img_folder):\n",
    "                    for img_file in img_files:\n",
    "                        # Extract filename and extension to filter by CSV only\n",
    "                        img_filename, img_extension = os.path.splitext(img_file)\n",
    "                        if img_extension=='.jpg':\n",
    "                            df_mimic_cxr_jpg = df_mimic_cxr_jpg.append({'Note_folder': subdir.replace(core_mimiciv_imgcxr_path,''), 'Note_file': filename + extension , 'Note': img_note_text, 'Img_Folder': img_folder.replace(core_mimiciv_imgcxr_path,''), 'Img_Filename': img_filename + img_extension, 'dicom_id': img_filename}, ignore_index=True)\n",
    "                            \n",
    "        #Update progress bar\n",
    "        pbar.update(1)\n",
    "        \n",
    "    #Save\n",
    "    if do_save:\n",
    "        try:\n",
    "            df_mimic_cxr_jpg.to_csv(core_mimiciv_imgcxr_path + '/mimic-cxr-2.0.0-jpeg-txt.csv')\n",
    "        except Exception as e:\n",
    "            print(e)\n",
    "        \n",
    "    return df_mimic_cxr_jpg"
   ]
  },
  {
   "cell_type": "code",
   "execution_count": 50,
   "id": "f253a949-eef8-43b8-93e2-70d70c99bef3",
   "metadata": {},
   "outputs": [
    {
     "ename": "KeyboardInterrupt",
     "evalue": "",
     "output_type": "error",
     "traceback": [
      "\u001b[0;31m---------------------------------------------------------------------------\u001b[0m",
      "\u001b[0;31mKeyboardInterrupt\u001b[0m                         Traceback (most recent call last)",
      "Input \u001b[0;32mIn [50]\u001b[0m, in \u001b[0;36m<cell line: 2>\u001b[0;34m()\u001b[0m\n\u001b[1;32m      1\u001b[0m \u001b[38;5;66;03m## CXR\u001b[39;00m\n\u001b[0;32m----> 2\u001b[0m df_mimic_cxr_jpg \u001b[38;5;241m=\u001b[39m \u001b[43mbuild_mimic_cxr_jpg_dataframe\u001b[49m\u001b[43m(\u001b[49m\u001b[43mcore_mimiciv_imgcxr_path\u001b[49m\u001b[43m,\u001b[49m\u001b[43m \u001b[49m\u001b[43mdo_save\u001b[49m\u001b[38;5;241;43m=\u001b[39;49m\u001b[38;5;28;43;01mTrue\u001b[39;49;00m\u001b[43m)\u001b[49m\n\u001b[1;32m      3\u001b[0m \u001b[38;5;28;01mif\u001b[39;00m (\u001b[38;5;129;01mnot\u001b[39;00m \u001b[38;5;124m'\u001b[39m\u001b[38;5;124mcxrtime\u001b[39m\u001b[38;5;124m'\u001b[39m \u001b[38;5;129;01min\u001b[39;00m df_mimic_cxr_metadata\u001b[38;5;241m.\u001b[39mcolumns) \u001b[38;5;129;01mor\u001b[39;00m (\u001b[38;5;129;01mnot\u001b[39;00m \u001b[38;5;124m'\u001b[39m\u001b[38;5;124mImg_Filename\u001b[39m\u001b[38;5;124m'\u001b[39m \u001b[38;5;129;01min\u001b[39;00m df_mimic_cxr_metadata\u001b[38;5;241m.\u001b[39mcolumns):\n\u001b[1;32m      4\u001b[0m     \u001b[38;5;66;03m# Create CXRTime variable if it does not exist already\u001b[39;00m\n\u001b[1;32m      5\u001b[0m     \u001b[38;5;28mprint\u001b[39m(\u001b[38;5;124m\"\u001b[39m\u001b[38;5;124mProcessing CXRtime stamps\u001b[39m\u001b[38;5;124m\"\u001b[39m)\n",
      "Input \u001b[0;32mIn [30]\u001b[0m, in \u001b[0;36mbuild_mimic_cxr_jpg_dataframe\u001b[0;34m(core_mimiciv_imgcxr_path, do_save)\u001b[0m\n\u001b[1;32m     12\u001b[0m \u001b[38;5;66;03m#Figure out how many files we will read\u001b[39;00m\n\u001b[1;32m     13\u001b[0m file_count \u001b[38;5;241m=\u001b[39m \u001b[38;5;241m0\u001b[39m\n\u001b[0;32m---> 14\u001b[0m \u001b[38;5;28;01mfor\u001b[39;00m subdir, dirs, files \u001b[38;5;129;01min\u001b[39;00m os\u001b[38;5;241m.\u001b[39mwalk(mimic_cxr_jpg_dir):\n\u001b[1;32m     15\u001b[0m     \u001b[38;5;28;01mfor\u001b[39;00m file \u001b[38;5;129;01min\u001b[39;00m files:\n\u001b[1;32m     16\u001b[0m         \u001b[38;5;66;03m# Extract filename and extension to filter by CSV only\u001b[39;00m\n\u001b[1;32m     17\u001b[0m         filename, extension \u001b[38;5;241m=\u001b[39m os\u001b[38;5;241m.\u001b[39mpath\u001b[38;5;241m.\u001b[39msplitext(file)\n",
      "File \u001b[0;32m~/miniconda3/envs/pytorch_env/lib/python3.9/os.py:418\u001b[0m, in \u001b[0;36m_walk\u001b[0;34m(top, topdown, onerror, followlinks)\u001b[0m\n\u001b[1;32m    413\u001b[0m         \u001b[38;5;66;03m# Issue #23605: os.path.islink() is used instead of caching\u001b[39;00m\n\u001b[1;32m    414\u001b[0m         \u001b[38;5;66;03m# entry.is_symlink() result during the loop on os.scandir() because\u001b[39;00m\n\u001b[1;32m    415\u001b[0m         \u001b[38;5;66;03m# the caller can replace the directory entry during the \"yield\"\u001b[39;00m\n\u001b[1;32m    416\u001b[0m         \u001b[38;5;66;03m# above.\u001b[39;00m\n\u001b[1;32m    417\u001b[0m         \u001b[38;5;28;01mif\u001b[39;00m followlinks \u001b[38;5;129;01mor\u001b[39;00m \u001b[38;5;129;01mnot\u001b[39;00m islink(new_path):\n\u001b[0;32m--> 418\u001b[0m             \u001b[38;5;28;01myield from\u001b[39;00m _walk(new_path, topdown, onerror, followlinks)\n\u001b[1;32m    419\u001b[0m \u001b[38;5;28;01melse\u001b[39;00m:\n\u001b[1;32m    420\u001b[0m     \u001b[38;5;66;03m# Recurse into sub-directories\u001b[39;00m\n\u001b[1;32m    421\u001b[0m     \u001b[38;5;28;01mfor\u001b[39;00m new_path \u001b[38;5;129;01min\u001b[39;00m walk_dirs:\n",
      "File \u001b[0;32m~/miniconda3/envs/pytorch_env/lib/python3.9/os.py:418\u001b[0m, in \u001b[0;36m_walk\u001b[0;34m(top, topdown, onerror, followlinks)\u001b[0m\n\u001b[1;32m    413\u001b[0m         \u001b[38;5;66;03m# Issue #23605: os.path.islink() is used instead of caching\u001b[39;00m\n\u001b[1;32m    414\u001b[0m         \u001b[38;5;66;03m# entry.is_symlink() result during the loop on os.scandir() because\u001b[39;00m\n\u001b[1;32m    415\u001b[0m         \u001b[38;5;66;03m# the caller can replace the directory entry during the \"yield\"\u001b[39;00m\n\u001b[1;32m    416\u001b[0m         \u001b[38;5;66;03m# above.\u001b[39;00m\n\u001b[1;32m    417\u001b[0m         \u001b[38;5;28;01mif\u001b[39;00m followlinks \u001b[38;5;129;01mor\u001b[39;00m \u001b[38;5;129;01mnot\u001b[39;00m islink(new_path):\n\u001b[0;32m--> 418\u001b[0m             \u001b[38;5;28;01myield from\u001b[39;00m _walk(new_path, topdown, onerror, followlinks)\n\u001b[1;32m    419\u001b[0m \u001b[38;5;28;01melse\u001b[39;00m:\n\u001b[1;32m    420\u001b[0m     \u001b[38;5;66;03m# Recurse into sub-directories\u001b[39;00m\n\u001b[1;32m    421\u001b[0m     \u001b[38;5;28;01mfor\u001b[39;00m new_path \u001b[38;5;129;01min\u001b[39;00m walk_dirs:\n",
      "    \u001b[0;31m[... skipping similar frames: _walk at line 418 (3 times)]\u001b[0m\n",
      "File \u001b[0;32m~/miniconda3/envs/pytorch_env/lib/python3.9/os.py:418\u001b[0m, in \u001b[0;36m_walk\u001b[0;34m(top, topdown, onerror, followlinks)\u001b[0m\n\u001b[1;32m    413\u001b[0m         \u001b[38;5;66;03m# Issue #23605: os.path.islink() is used instead of caching\u001b[39;00m\n\u001b[1;32m    414\u001b[0m         \u001b[38;5;66;03m# entry.is_symlink() result during the loop on os.scandir() because\u001b[39;00m\n\u001b[1;32m    415\u001b[0m         \u001b[38;5;66;03m# the caller can replace the directory entry during the \"yield\"\u001b[39;00m\n\u001b[1;32m    416\u001b[0m         \u001b[38;5;66;03m# above.\u001b[39;00m\n\u001b[1;32m    417\u001b[0m         \u001b[38;5;28;01mif\u001b[39;00m followlinks \u001b[38;5;129;01mor\u001b[39;00m \u001b[38;5;129;01mnot\u001b[39;00m islink(new_path):\n\u001b[0;32m--> 418\u001b[0m             \u001b[38;5;28;01myield from\u001b[39;00m _walk(new_path, topdown, onerror, followlinks)\n\u001b[1;32m    419\u001b[0m \u001b[38;5;28;01melse\u001b[39;00m:\n\u001b[1;32m    420\u001b[0m     \u001b[38;5;66;03m# Recurse into sub-directories\u001b[39;00m\n\u001b[1;32m    421\u001b[0m     \u001b[38;5;28;01mfor\u001b[39;00m new_path \u001b[38;5;129;01min\u001b[39;00m walk_dirs:\n",
      "File \u001b[0;32m~/miniconda3/envs/pytorch_env/lib/python3.9/os.py:367\u001b[0m, in \u001b[0;36m_walk\u001b[0;34m(top, topdown, onerror, followlinks)\u001b[0m\n\u001b[1;32m    365\u001b[0m \u001b[38;5;28;01mtry\u001b[39;00m:\n\u001b[1;32m    366\u001b[0m     \u001b[38;5;28;01mtry\u001b[39;00m:\n\u001b[0;32m--> 367\u001b[0m         entry \u001b[38;5;241m=\u001b[39m \u001b[38;5;28;43mnext\u001b[39;49m\u001b[43m(\u001b[49m\u001b[43mscandir_it\u001b[49m\u001b[43m)\u001b[49m\n\u001b[1;32m    368\u001b[0m     \u001b[38;5;28;01mexcept\u001b[39;00m \u001b[38;5;167;01mStopIteration\u001b[39;00m:\n\u001b[1;32m    369\u001b[0m         \u001b[38;5;28;01mbreak\u001b[39;00m\n",
      "\u001b[0;31mKeyboardInterrupt\u001b[0m: "
     ]
    }
   ],
   "source": [
    "## CXR\n",
    "df_mimic_cxr_jpg = build_mimic_cxr_jpg_dataframe(core_mimiciv_imgcxr_path, do_save=True)\n",
    "if (not 'cxrtime' in df_mimic_cxr_metadata.columns) or (not 'Img_Filename' in df_mimic_cxr_metadata.columns):\n",
    "    # Create CXRTime variable if it does not exist already\n",
    "    print(\"Processing CXRtime stamps\")\n",
    "    df_cxr = df_mimic_cxr_metadata.compute()\n",
    "    df_cxr['StudyDateForm'] = pd.to_datetime(df_cxr['StudyDate'], format='%Y%m%d')\n",
    "    df_cxr['StudyTimeForm'] = df_cxr.apply(lambda x : '%#010.3f' % x['StudyTime'] ,1)\n",
    "    df_cxr['StudyTimeForm'] = pd.to_datetime(df_cxr['StudyTimeForm'], format='%H%M%S.%f').dt.time\n",
    "    df_cxr['cxrtime'] = df_cxr.apply(lambda r : dt.datetime.combine(r['StudyDateForm'],r['StudyTimeForm']),1)\n",
    "\n",
    "    # # Add paths and info to images in cxr\n",
    "    # df_mimic_cxr_jpg = pd.read_csv(core_mimiciv_imgcxr_path + 'files/mimic-cxr-2.0.0-jpeg-txt.csv')\n",
    "    df_cxr = pd.merge(df_mimic_cxr_jpg, df_cxr, on='dicom_id')\n",
    "    \n",
    "    # Save\n",
    "    df_cxr.to_csv(core_mimiciv_path + 'mimic-cxr-jpg/2.0.0/mimic-cxr-2.0.0-metadata.csv', index=False)\n",
    "    #Read back the dataframe\n",
    "    try:\n",
    "        df_mimic_cxr_metadata = dd.read_csv(core_mimiciv_path + 'mimic-cxr-jpg/2.0.0/mimic-cxr-2.0.0-metadata.csv', assume_missing=True, dtype={'dicom_id': 'object', 'Note': 'object'}, blocksize=None)\n",
    "    except:\n",
    "        df_mimic_cxr_metadata = pd.read_csv(core_mimiciv_path + 'mimic-cxr-jpg/2.0.0/mimic-cxr-2.0.0-metadata.csv', dtype={'dicom_id': 'object', 'Note': 'object'})\n",
    "        df_mimic_cxr_metadata = dd.from_pandas(df_mimic_cxr_metadata, npartitions=7)\n",
    "df_mimic_cxr_metadata['cxrtime'] = dd.to_datetime(df_mimic_cxr_metadata['cxrtime'])"
   ]
  },
  {
   "cell_type": "code",
   "execution_count": 11,
   "id": "b32479ae-94ae-47b0-aa43-c8b3efa5cc5b",
   "metadata": {},
   "outputs": [
    {
     "name": "stdout",
     "output_type": "stream",
     "text": [
      "PROCESSING \"CXR\" DB...\n"
     ]
    }
   ],
   "source": [
    "print('PROCESSING \"CXR\" DB...')\n",
    "df_mimic_cxr_split = df_mimic_cxr_split.compute().sort_values(by=['subject_id'])\n",
    "df_mimic_cxr_chexpert = df_mimic_cxr_chexpert.compute().sort_values(by=['subject_id'])\n",
    "df_mimic_cxr_metadata = df_mimic_cxr_metadata.compute().sort_values(by=['subject_id'])\n",
    "df_mimic_cxr_negbio = df_mimic_cxr_negbio.compute().sort_values(by=['subject_id'])"
   ]
  },
  {
   "cell_type": "code",
   "execution_count": 12,
   "id": "52ebfe68-8e14-40cd-b3d0-596ddf163538",
   "metadata": {},
   "outputs": [
    {
     "name": "stdout",
     "output_type": "stream",
     "text": [
      "- CXR > df_mimic_cxr_split\n",
      "--------------------------------\n",
      "dicom_id       object\n",
      "study_id      float64\n",
      "subject_id    float64\n",
      "split          object\n",
      "dtype: object\n",
      "\n",
      "\n",
      "\n",
      "- CXR > df_mimic_cxr_chexpert\n",
      "--------------------------------\n",
      "subject_id                    float64\n",
      "study_id                      float64\n",
      "Atelectasis                   float64\n",
      "Cardiomegaly                  float64\n",
      "Consolidation                 float64\n",
      "Edema                         float64\n",
      "Enlarged Cardiomediastinum    float64\n",
      "Fracture                      float64\n",
      "Lung Lesion                   float64\n",
      "Lung Opacity                  float64\n",
      "No Finding                    float64\n",
      "Pleural Effusion              float64\n",
      "Pleural Other                 float64\n",
      "Pneumonia                     float64\n",
      "Pneumothorax                  float64\n",
      "Support Devices               float64\n",
      "dtype: object\n",
      "\n",
      "\n",
      "\n",
      "- CXR > df_mimic_cxr_metadata\n",
      "--------------------------------\n",
      "dicom_id                                       object\n",
      "subject_id                                    float64\n",
      "study_id                                      float64\n",
      "PerformedProcedureStepDescription              object\n",
      "ViewPosition                                   object\n",
      "Rows                                          float64\n",
      "Columns                                       float64\n",
      "StudyDate                                     float64\n",
      "StudyTime                                     float64\n",
      "ProcedureCodeSequence_CodeMeaning              object\n",
      "ViewCodeSequence_CodeMeaning                   object\n",
      "PatientOrientationCodeSequence_CodeMeaning     object\n",
      "dtype: object\n",
      "\n",
      "\n",
      "\n",
      "- CXR > df_mimic_cxr_negbio\n",
      "--------------------------------\n",
      "subject_id                    float64\n",
      "study_id                      float64\n",
      "Atelectasis                   float64\n",
      "Cardiomegaly                  float64\n",
      "Consolidation                 float64\n",
      "Edema                         float64\n",
      "Enlarged Cardiomediastinum    float64\n",
      "Fracture                      float64\n",
      "Lung Lesion                   float64\n",
      "Lung Opacity                  float64\n",
      "No Finding                    float64\n",
      "Pleural Effusion              float64\n",
      "Pleural Other                 float64\n",
      "Pneumonia                     float64\n",
      "Pneumothorax                  float64\n",
      "Support Devices               float64\n",
      "dtype: object\n",
      "\n",
      "\n",
      "\n"
     ]
    }
   ],
   "source": [
    "## CXR\n",
    "print('- CXR > df_mimic_cxr_split')\n",
    "print('--------------------------------')\n",
    "print(df_mimic_cxr_split.dtypes)\n",
    "print('\\n\\n')\n",
    "\n",
    "print('- CXR > df_mimic_cxr_chexpert')\n",
    "print('--------------------------------')\n",
    "print(df_mimic_cxr_chexpert.dtypes)\n",
    "print('\\n\\n')\n",
    "\n",
    "print('- CXR > df_mimic_cxr_metadata')\n",
    "print('--------------------------------')\n",
    "print(df_mimic_cxr_metadata.dtypes)\n",
    "print('\\n\\n')\n",
    "\n",
    "print('- CXR > df_mimic_cxr_negbio')\n",
    "print('--------------------------------')\n",
    "print(df_mimic_cxr_negbio.dtypes)\n",
    "print('\\n\\n')"
   ]
  },
  {
   "cell_type": "code",
   "execution_count": 13,
   "id": "c98a405b-e568-4548-ab98-e965e90d9d41",
   "metadata": {},
   "outputs": [],
   "source": [
    "# Get Unique Subjects with Chest Xrays\n",
    "df_cxr_ids = pd.concat([pd.DataFrame(), df_mimic_cxr_chexpert[['subject_id']]], sort=True).drop_duplicates()"
   ]
  },
  {
   "cell_type": "code",
   "execution_count": 15,
   "id": "9cbe7b72-7e30-47e3-b536-fd74d0b1d91b",
   "metadata": {},
   "outputs": [
    {
     "name": "stdout",
     "output_type": "stream",
     "text": [
      "Unique Subjects with Chest Xrays Available: 65379\n"
     ]
    }
   ],
   "source": [
    "print('Unique Subjects with Chest Xrays Available: ' + str(len(df_cxr_ids)))df_mimic_cxr_negbio"
   ]
  },
  {
   "cell_type": "code",
   "execution_count": 23,
   "id": "aad1ff8e-1236-41bd-a55e-908c0f8053df",
   "metadata": {},
   "outputs": [],
   "source": [
    "df_cxr = df_mimic_cxr_chexpert.copy()\n",
    "df_cxr = df_cxr.merge(df_mimic_cxr_metadata, how='left')\n",
    "df_cxr = df_cxr.merge(df_mimic_cxr_negbio, how='left')"
   ]
  },
  {
   "cell_type": "code",
   "execution_count": 25,
   "id": "f474d2c5-c92b-40e0-a5dd-5ed29f598001",
   "metadata": {},
   "outputs": [
    {
     "data": {
      "text/plain": [
       "Index(['subject_id', 'study_id', 'Atelectasis', 'Cardiomegaly',\n",
       "       'Consolidation', 'Edema', 'Enlarged Cardiomediastinum', 'Fracture',\n",
       "       'Lung Lesion', 'Lung Opacity', 'No Finding', 'Pleural Effusion',\n",
       "       'Pleural Other', 'Pneumonia', 'Pneumothorax', 'Support Devices',\n",
       "       'dicom_id', 'PerformedProcedureStepDescription', 'ViewPosition', 'Rows',\n",
       "       'Columns', 'StudyDate', 'StudyTime',\n",
       "       'ProcedureCodeSequence_CodeMeaning', 'ViewCodeSequence_CodeMeaning',\n",
       "       'PatientOrientationCodeSequence_CodeMeaning'],\n",
       "      dtype='object')"
      ]
     },
     "execution_count": 25,
     "metadata": {},
     "output_type": "execute_result"
    }
   ],
   "source": [
    "df_cxr.columns"
   ]
  },
  {
   "cell_type": "code",
   "execution_count": 26,
   "id": "66c4b0f2-880c-4914-bcb2-127b7e05c939",
   "metadata": {},
   "outputs": [],
   "source": [
    "df_cxr = df_cxr.drop_duplicates()\n",
    "df_cxr.to_csv('full_cxr.csv', index=False)"
   ]
  },
  {
   "cell_type": "code",
   "execution_count": 27,
   "id": "856d7f5a-bbda-47c1-9ee7-a8ace0db38f3",
   "metadata": {},
   "outputs": [],
   "source": [
    "df_cxr['study_id'] = df_cxr['study_id'].astype('int64')"
   ]
  },
  {
   "cell_type": "code",
   "execution_count": null,
   "id": "e51f7298-f4b9-4e59-a928-145ae8a6144f",
   "metadata": {},
   "outputs": [],
   "source": [
    "img_path = os.path.join(self.img_path, img_folder[1:], img_file)\n",
    "img = cv2.imread(img_path, cv2.IMREAD_GRAYSCALE)\n",
    "img = cv2.resize(img, (self.img_shape[0], self.img_shape[1]))"
   ]
  },
  {
   "cell_type": "code",
   "execution_count": 30,
   "id": "192b1583-3555-4e7f-b20b-3a1ff849a948",
   "metadata": {},
   "outputs": [
    {
     "data": {
      "text/html": [
       "<div>\n",
       "<style scoped>\n",
       "    .dataframe tbody tr th:only-of-type {\n",
       "        vertical-align: middle;\n",
       "    }\n",
       "\n",
       "    .dataframe tbody tr th {\n",
       "        vertical-align: top;\n",
       "    }\n",
       "\n",
       "    .dataframe thead th {\n",
       "        text-align: right;\n",
       "    }\n",
       "</style>\n",
       "<table border=\"1\" class=\"dataframe\">\n",
       "  <thead>\n",
       "    <tr style=\"text-align: right;\">\n",
       "      <th></th>\n",
       "      <th>subject_id</th>\n",
       "      <th>study_id</th>\n",
       "      <th>Atelectasis</th>\n",
       "      <th>Cardiomegaly</th>\n",
       "      <th>Consolidation</th>\n",
       "      <th>Edema</th>\n",
       "      <th>Enlarged Cardiomediastinum</th>\n",
       "      <th>Fracture</th>\n",
       "      <th>Lung Lesion</th>\n",
       "      <th>Lung Opacity</th>\n",
       "      <th>...</th>\n",
       "      <th>dicom_id</th>\n",
       "      <th>PerformedProcedureStepDescription</th>\n",
       "      <th>ViewPosition</th>\n",
       "      <th>Rows</th>\n",
       "      <th>Columns</th>\n",
       "      <th>StudyDate</th>\n",
       "      <th>StudyTime</th>\n",
       "      <th>ProcedureCodeSequence_CodeMeaning</th>\n",
       "      <th>ViewCodeSequence_CodeMeaning</th>\n",
       "      <th>PatientOrientationCodeSequence_CodeMeaning</th>\n",
       "    </tr>\n",
       "  </thead>\n",
       "  <tbody>\n",
       "    <tr>\n",
       "      <th>0</th>\n",
       "      <td>10000032.0</td>\n",
       "      <td>50414267</td>\n",
       "      <td>NaN</td>\n",
       "      <td>NaN</td>\n",
       "      <td>NaN</td>\n",
       "      <td>NaN</td>\n",
       "      <td>NaN</td>\n",
       "      <td>NaN</td>\n",
       "      <td>NaN</td>\n",
       "      <td>NaN</td>\n",
       "      <td>...</td>\n",
       "      <td>02aa804e-bde0afdd-112c0b34-7bc16630-4e384014</td>\n",
       "      <td>CHEST (PA AND LAT)</td>\n",
       "      <td>PA</td>\n",
       "      <td>3056.0</td>\n",
       "      <td>2544.0</td>\n",
       "      <td>21800506.0</td>\n",
       "      <td>213014.531</td>\n",
       "      <td>CHEST (PA AND LAT)</td>\n",
       "      <td>postero-anterior</td>\n",
       "      <td>Erect</td>\n",
       "    </tr>\n",
       "    <tr>\n",
       "      <th>1</th>\n",
       "      <td>10000032.0</td>\n",
       "      <td>50414267</td>\n",
       "      <td>NaN</td>\n",
       "      <td>NaN</td>\n",
       "      <td>NaN</td>\n",
       "      <td>NaN</td>\n",
       "      <td>NaN</td>\n",
       "      <td>NaN</td>\n",
       "      <td>NaN</td>\n",
       "      <td>NaN</td>\n",
       "      <td>...</td>\n",
       "      <td>174413ec-4ec4c1f7-34ea26b7-c5f994f8-79ef1962</td>\n",
       "      <td>CHEST (PA AND LAT)</td>\n",
       "      <td>LATERAL</td>\n",
       "      <td>3056.0</td>\n",
       "      <td>2544.0</td>\n",
       "      <td>21800506.0</td>\n",
       "      <td>213014.531</td>\n",
       "      <td>CHEST (PA AND LAT)</td>\n",
       "      <td>lateral</td>\n",
       "      <td>Erect</td>\n",
       "    </tr>\n",
       "  </tbody>\n",
       "</table>\n",
       "<p>2 rows × 26 columns</p>\n",
       "</div>"
      ],
      "text/plain": [
       "   subject_id  study_id  Atelectasis  Cardiomegaly  Consolidation  Edema  \\\n",
       "0  10000032.0  50414267          NaN           NaN            NaN    NaN   \n",
       "1  10000032.0  50414267          NaN           NaN            NaN    NaN   \n",
       "\n",
       "   Enlarged Cardiomediastinum  Fracture  Lung Lesion  Lung Opacity  ...  \\\n",
       "0                         NaN       NaN          NaN           NaN  ...   \n",
       "1                         NaN       NaN          NaN           NaN  ...   \n",
       "\n",
       "                                       dicom_id  \\\n",
       "0  02aa804e-bde0afdd-112c0b34-7bc16630-4e384014   \n",
       "1  174413ec-4ec4c1f7-34ea26b7-c5f994f8-79ef1962   \n",
       "\n",
       "   PerformedProcedureStepDescription  ViewPosition    Rows  Columns  \\\n",
       "0                 CHEST (PA AND LAT)            PA  3056.0   2544.0   \n",
       "1                 CHEST (PA AND LAT)       LATERAL  3056.0   2544.0   \n",
       "\n",
       "    StudyDate   StudyTime ProcedureCodeSequence_CodeMeaning  \\\n",
       "0  21800506.0  213014.531                CHEST (PA AND LAT)   \n",
       "1  21800506.0  213014.531                CHEST (PA AND LAT)   \n",
       "\n",
       "  ViewCodeSequence_CodeMeaning  PatientOrientationCodeSequence_CodeMeaning  \n",
       "0             postero-anterior                                       Erect  \n",
       "1                      lateral                                       Erect  \n",
       "\n",
       "[2 rows x 26 columns]"
      ]
     },
     "execution_count": 30,
     "metadata": {},
     "output_type": "execute_result"
    }
   ],
   "source": [
    "df_cxr.head(2)"
   ]
  },
  {
   "cell_type": "code",
   "execution_count": null,
   "id": "0f2006d2-3418-4e8d-8ad8-aa87ce9ef86a",
   "metadata": {},
   "outputs": [],
   "source": [
    "img_meta = self.cxr[(self.cxr['subject_id'] == subject_id) & (self.cxr['hadm_id'] == hadm_id)]"
   ]
  }
 ],
 "metadata": {
  "kernelspec": {
   "display_name": "pytorch_env",
   "language": "python",
   "name": "pytorch_env"
  },
  "language_info": {
   "codemirror_mode": {
    "name": "ipython",
    "version": 3
   },
   "file_extension": ".py",
   "mimetype": "text/x-python",
   "name": "python",
   "nbconvert_exporter": "python",
   "pygments_lexer": "ipython3",
   "version": "3.9.6"
  }
 },
 "nbformat": 4,
 "nbformat_minor": 5
}

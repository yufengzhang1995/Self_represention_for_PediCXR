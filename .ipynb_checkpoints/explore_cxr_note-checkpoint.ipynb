{
 "cells": [
  {
   "cell_type": "code",
   "execution_count": 1,
   "id": "682240cd-572d-48ad-a7ac-7db03ef82484",
   "metadata": {},
   "outputs": [
    {
     "name": "stderr",
     "output_type": "stream",
     "text": [
      "/home/chloezh/miniconda3/envs/pytorch_env/lib/python3.9/site-packages/tqdm/auto.py:22: TqdmWarning: IProgress not found. Please update jupyter and ipywidgets. See https://ipywidgets.readthedocs.io/en/stable/user_install.html\n",
      "  from .autonotebook import tqdm as notebook_tqdm\n"
     ]
    }
   ],
   "source": [
    "import dask.dataframe as dd\n",
    "import datetime as dt\n",
    "import cv2\n",
    "import numpy as np\n",
    "import torch\n",
    "from torch.utils.data import Dataset\n",
    "from sklearn.model_selection import train_test_split\n",
    "import pandas as pd\n",
    "import os"
   ]
  },
  {
   "cell_type": "code",
   "execution_count": 2,
   "id": "44eef6ac-8913-47b0-9d90-65d48c123b8d",
   "metadata": {},
   "outputs": [],
   "source": [
    "from pathlib import Path"
   ]
  },
  {
   "cell_type": "code",
   "execution_count": 3,
   "id": "779f122a-6ea8-4cac-9adc-c413bd7a1fc0",
   "metadata": {},
   "outputs": [],
   "source": [
    "import gensim"
   ]
  },
  {
   "cell_type": "code",
   "execution_count": 4,
   "id": "ba5912cc-c12c-4034-98e7-53cc42dd39c4",
   "metadata": {},
   "outputs": [],
   "source": [
    "mimiciv_path = '/nfs/turbo/med-kayvan-lab/Projects/HeartFailure/Data/Raw/physionet.org/files/'"
   ]
  },
  {
   "cell_type": "code",
   "execution_count": 5,
   "id": "2de9dbb3-c0fc-48f6-bdda-489d9dafdd4c",
   "metadata": {},
   "outputs": [],
   "source": [
    "tbl = pd.read_csv('mimic_cxr_note_chexpert.csv')"
   ]
  },
  {
   "cell_type": "code",
   "execution_count": 6,
   "id": "6e38c18d-6022-4286-928e-a788dd80acf4",
   "metadata": {},
   "outputs": [
    {
     "data": {
      "text/html": [
       "<div>\n",
       "<style scoped>\n",
       "    .dataframe tbody tr th:only-of-type {\n",
       "        vertical-align: middle;\n",
       "    }\n",
       "\n",
       "    .dataframe tbody tr th {\n",
       "        vertical-align: top;\n",
       "    }\n",
       "\n",
       "    .dataframe thead th {\n",
       "        text-align: right;\n",
       "    }\n",
       "</style>\n",
       "<table border=\"1\" class=\"dataframe\">\n",
       "  <thead>\n",
       "    <tr style=\"text-align: right;\">\n",
       "      <th></th>\n",
       "      <th>dicom_id</th>\n",
       "      <th>subject_id</th>\n",
       "      <th>study_id</th>\n",
       "      <th>PerformedProcedureStepDescription</th>\n",
       "      <th>ViewPosition</th>\n",
       "      <th>Rows</th>\n",
       "      <th>Columns</th>\n",
       "      <th>StudyDate</th>\n",
       "      <th>StudyTime</th>\n",
       "      <th>ProcedureCodeSequence_CodeMeaning</th>\n",
       "      <th>...</th>\n",
       "      <th>Enlarged Cardiomediastinum</th>\n",
       "      <th>Fracture</th>\n",
       "      <th>Lung Lesion</th>\n",
       "      <th>Lung Opacity</th>\n",
       "      <th>No Finding</th>\n",
       "      <th>Pleural Effusion</th>\n",
       "      <th>Pleural Other</th>\n",
       "      <th>Pneumonia</th>\n",
       "      <th>Pneumothorax</th>\n",
       "      <th>Support Devices</th>\n",
       "    </tr>\n",
       "  </thead>\n",
       "  <tbody>\n",
       "    <tr>\n",
       "      <th>0</th>\n",
       "      <td>02aa804e-bde0afdd-112c0b34-7bc16630-4e384014</td>\n",
       "      <td>10000032.0</td>\n",
       "      <td>50414267.0</td>\n",
       "      <td>CHEST (PA AND LAT)</td>\n",
       "      <td>PA</td>\n",
       "      <td>3056.0</td>\n",
       "      <td>2544.0</td>\n",
       "      <td>21800506.0</td>\n",
       "      <td>213014.531</td>\n",
       "      <td>CHEST (PA AND LAT)</td>\n",
       "      <td>...</td>\n",
       "      <td>NaN</td>\n",
       "      <td>NaN</td>\n",
       "      <td>NaN</td>\n",
       "      <td>NaN</td>\n",
       "      <td>1.0</td>\n",
       "      <td>NaN</td>\n",
       "      <td>NaN</td>\n",
       "      <td>NaN</td>\n",
       "      <td>NaN</td>\n",
       "      <td>NaN</td>\n",
       "    </tr>\n",
       "    <tr>\n",
       "      <th>1</th>\n",
       "      <td>2a2277a9-b0ded155-c0de8eb9-c124d10e-82c5caab</td>\n",
       "      <td>10000032.0</td>\n",
       "      <td>53189527.0</td>\n",
       "      <td>CHEST (PA AND LAT)</td>\n",
       "      <td>PA</td>\n",
       "      <td>3056.0</td>\n",
       "      <td>2544.0</td>\n",
       "      <td>21800626.0</td>\n",
       "      <td>165500.312</td>\n",
       "      <td>CHEST (PA AND LAT)</td>\n",
       "      <td>...</td>\n",
       "      <td>NaN</td>\n",
       "      <td>NaN</td>\n",
       "      <td>NaN</td>\n",
       "      <td>NaN</td>\n",
       "      <td>1.0</td>\n",
       "      <td>NaN</td>\n",
       "      <td>NaN</td>\n",
       "      <td>NaN</td>\n",
       "      <td>NaN</td>\n",
       "      <td>NaN</td>\n",
       "    </tr>\n",
       "  </tbody>\n",
       "</table>\n",
       "<p>2 rows × 27 columns</p>\n",
       "</div>"
      ],
      "text/plain": [
       "                                       dicom_id  subject_id    study_id  \\\n",
       "0  02aa804e-bde0afdd-112c0b34-7bc16630-4e384014  10000032.0  50414267.0   \n",
       "1  2a2277a9-b0ded155-c0de8eb9-c124d10e-82c5caab  10000032.0  53189527.0   \n",
       "\n",
       "  PerformedProcedureStepDescription ViewPosition    Rows  Columns   StudyDate  \\\n",
       "0                CHEST (PA AND LAT)           PA  3056.0   2544.0  21800506.0   \n",
       "1                CHEST (PA AND LAT)           PA  3056.0   2544.0  21800626.0   \n",
       "\n",
       "    StudyTime ProcedureCodeSequence_CodeMeaning  ...  \\\n",
       "0  213014.531                CHEST (PA AND LAT)  ...   \n",
       "1  165500.312                CHEST (PA AND LAT)  ...   \n",
       "\n",
       "  Enlarged Cardiomediastinum Fracture Lung Lesion  Lung Opacity  No Finding  \\\n",
       "0                        NaN      NaN         NaN           NaN         1.0   \n",
       "1                        NaN      NaN         NaN           NaN         1.0   \n",
       "\n",
       "   Pleural Effusion  Pleural Other  Pneumonia  Pneumothorax  Support Devices  \n",
       "0               NaN            NaN        NaN           NaN              NaN  \n",
       "1               NaN            NaN        NaN           NaN              NaN  \n",
       "\n",
       "[2 rows x 27 columns]"
      ]
     },
     "execution_count": 6,
     "metadata": {},
     "output_type": "execute_result"
    }
   ],
   "source": [
    "tbl.head(2)"
   ]
  },
  {
   "cell_type": "code",
   "execution_count": 7,
   "id": "4076a9c6-34c1-42c8-a77d-b610d643a314",
   "metadata": {},
   "outputs": [
    {
     "data": {
      "text/plain": [
       "Index(['dicom_id', 'subject_id', 'study_id',\n",
       "       'PerformedProcedureStepDescription', 'ViewPosition', 'Rows', 'Columns',\n",
       "       'StudyDate', 'StudyTime', 'ProcedureCodeSequence_CodeMeaning',\n",
       "       'ViewCodeSequence_CodeMeaning',\n",
       "       'PatientOrientationCodeSequence_CodeMeaning', 'note', 'Atelectasis',\n",
       "       'Cardiomegaly', 'Consolidation', 'Edema', 'Enlarged Cardiomediastinum',\n",
       "       'Fracture', 'Lung Lesion', 'Lung Opacity', 'No Finding',\n",
       "       'Pleural Effusion', 'Pleural Other', 'Pneumonia', 'Pneumothorax',\n",
       "       'Support Devices'],\n",
       "      dtype='object')"
      ]
     },
     "execution_count": 7,
     "metadata": {},
     "output_type": "execute_result"
    }
   ],
   "source": [
    "tbl.columns"
   ]
  },
  {
   "cell_type": "markdown",
   "id": "e0d6d18f-53b1-4b01-982a-694f127dd09d",
   "metadata": {},
   "source": [
    "## CXR jpg"
   ]
  },
  {
   "cell_type": "code",
   "execution_count": 4,
   "id": "98c2982d-249a-472b-a971-83f9745de28b",
   "metadata": {},
   "outputs": [],
   "source": [
    "## CXR\n",
    "df_mimic_cxr_split = dd.read_csv(mimiciv_path + 'mimic-cxr-jpg/2.0.0/mimic-cxr-2.0.0-split.csv', assume_missing=True)\n",
    "df_mimic_cxr_chexpert = dd.read_csv(mimiciv_path + 'mimic-cxr-jpg/2.0.0/mimic-cxr-2.0.0-chexpert.csv', assume_missing=True)\n",
    "try:\n",
    "    df_mimic_cxr_metadata = dd.read_csv(mimiciv_path + 'mimic-cxr-jpg/2.0.0/mimic-cxr-2.0.0-metadata.csv', assume_missing=True, dtype={'dicom_id': 'object'}, blocksize=None)\n",
    "except:\n",
    "    df_mimic_cxr_metadata = pd.read_csv(mimiciv_path + 'mimic-cxr-jpg/2.0.0/mimic-cxr-2.0.0-metadata.csv', dtype={'dicom_id': 'object'})\n",
    "    df_mimic_cxr_metadata = dd.from_pandas(df_mimic_cxr_metadata, npartitions=7)\n",
    "df_mimic_cxr_negbio = dd.read_csv(mimiciv_path + 'mimic-cxr-jpg/2.0.0/mimic-cxr-2.0.0-negbio.csv', assume_missing=True)"
   ]
  },
  {
   "cell_type": "code",
   "execution_count": 65,
   "id": "5ef22e7f-2305-47e7-af85-cdf6beca1219",
   "metadata": {},
   "outputs": [
    {
     "data": {
      "text/html": [
       "<div>\n",
       "<style scoped>\n",
       "    .dataframe tbody tr th:only-of-type {\n",
       "        vertical-align: middle;\n",
       "    }\n",
       "\n",
       "    .dataframe tbody tr th {\n",
       "        vertical-align: top;\n",
       "    }\n",
       "\n",
       "    .dataframe thead th {\n",
       "        text-align: right;\n",
       "    }\n",
       "</style>\n",
       "<table border=\"1\" class=\"dataframe\">\n",
       "  <thead>\n",
       "    <tr style=\"text-align: right;\">\n",
       "      <th></th>\n",
       "      <th>subject_id</th>\n",
       "      <th>study_id</th>\n",
       "      <th>Atelectasis</th>\n",
       "      <th>Cardiomegaly</th>\n",
       "      <th>Consolidation</th>\n",
       "      <th>Edema</th>\n",
       "      <th>Enlarged Cardiomediastinum</th>\n",
       "      <th>Fracture</th>\n",
       "      <th>Lung Lesion</th>\n",
       "      <th>Lung Opacity</th>\n",
       "      <th>No Finding</th>\n",
       "      <th>Pleural Effusion</th>\n",
       "      <th>Pleural Other</th>\n",
       "      <th>Pneumonia</th>\n",
       "      <th>Pneumothorax</th>\n",
       "      <th>Support Devices</th>\n",
       "    </tr>\n",
       "  </thead>\n",
       "  <tbody>\n",
       "    <tr>\n",
       "      <th>0</th>\n",
       "      <td>10000032.0</td>\n",
       "      <td>50414267.0</td>\n",
       "      <td>NaN</td>\n",
       "      <td>NaN</td>\n",
       "      <td>NaN</td>\n",
       "      <td>NaN</td>\n",
       "      <td>NaN</td>\n",
       "      <td>NaN</td>\n",
       "      <td>NaN</td>\n",
       "      <td>NaN</td>\n",
       "      <td>1.0</td>\n",
       "      <td>NaN</td>\n",
       "      <td>NaN</td>\n",
       "      <td>NaN</td>\n",
       "      <td>NaN</td>\n",
       "      <td>NaN</td>\n",
       "    </tr>\n",
       "    <tr>\n",
       "      <th>1</th>\n",
       "      <td>10000032.0</td>\n",
       "      <td>53189527.0</td>\n",
       "      <td>NaN</td>\n",
       "      <td>NaN</td>\n",
       "      <td>NaN</td>\n",
       "      <td>NaN</td>\n",
       "      <td>NaN</td>\n",
       "      <td>NaN</td>\n",
       "      <td>NaN</td>\n",
       "      <td>NaN</td>\n",
       "      <td>1.0</td>\n",
       "      <td>NaN</td>\n",
       "      <td>NaN</td>\n",
       "      <td>NaN</td>\n",
       "      <td>NaN</td>\n",
       "      <td>NaN</td>\n",
       "    </tr>\n",
       "  </tbody>\n",
       "</table>\n",
       "</div>"
      ],
      "text/plain": [
       "   subject_id    study_id  Atelectasis  Cardiomegaly  Consolidation  Edema  \\\n",
       "0  10000032.0  50414267.0          NaN           NaN            NaN    NaN   \n",
       "1  10000032.0  53189527.0          NaN           NaN            NaN    NaN   \n",
       "\n",
       "   Enlarged Cardiomediastinum  Fracture  Lung Lesion  Lung Opacity  \\\n",
       "0                         NaN       NaN          NaN           NaN   \n",
       "1                         NaN       NaN          NaN           NaN   \n",
       "\n",
       "   No Finding  Pleural Effusion  Pleural Other  Pneumonia  Pneumothorax  \\\n",
       "0         1.0               NaN            NaN        NaN           NaN   \n",
       "1         1.0               NaN            NaN        NaN           NaN   \n",
       "\n",
       "   Support Devices  \n",
       "0              NaN  \n",
       "1              NaN  "
      ]
     },
     "execution_count": 65,
     "metadata": {},
     "output_type": "execute_result"
    }
   ],
   "source": [
    "df_mimic_cxr_chexpert.head(2)"
   ]
  },
  {
   "cell_type": "code",
   "execution_count": 8,
   "id": "c92208bf-2c6d-4961-8a67-eeb4b8ec15d8",
   "metadata": {},
   "outputs": [],
   "source": [
    "df_mimic_cxr_metadata = df_mimic_cxr_metadata[df_mimic_cxr_metadata['ViewPosition'].isin(['PA','AP'])].compute()"
   ]
  },
  {
   "cell_type": "code",
   "execution_count": 22,
   "id": "46f25889-4480-4ab7-b0de-308f1b2a5721",
   "metadata": {},
   "outputs": [],
   "source": [
    "## read corresponding notes\n",
    "mimic_cxr_note_dir = '/nfs/turbo/med-kayvan-lab/Projects/HeartFailure/Data/Raw/physionet.org/files/mimic-cxr/2.0.0/files/'"
   ]
  },
  {
   "cell_type": "code",
   "execution_count": 57,
   "id": "f1ee41f6-5fdc-4247-a9a6-ad1ba8471b37",
   "metadata": {},
   "outputs": [],
   "source": [
    "def add_image_note(row):\n",
    "    prefix = 'p' + str(row['subject_id'])[:2]\n",
    "    pat = 'p' + str(int(row['subject_id']))\n",
    "    study = 's'+ str(int(row['study_id']))\n",
    "    pat_path = os.path.join(mimic_cxr_note_dir,prefix,pat)\n",
    "    # example: /nfs/turbo/med-kayvan-lab/Projects/HeartFailure/Data/Raw/physionet.org/files/mimic-cxr/2.0.0/files/p10/p10000032/s50414267.txt\n",
    "    txt_file_name = Path(os.path.join(pat_path,f'{study}.txt'))\n",
    "    if txt_file_name.is_file():\n",
    "        note = open(txt_file_name, \"r\", errors='ignore')\n",
    "        img_note_text = note.read()\n",
    "        note.close()\n",
    "    else:\n",
    "        return ''\n",
    "    return img_note_text"
   ]
  },
  {
   "cell_type": "code",
   "execution_count": 82,
   "id": "bf8fd23c-0b75-4d72-b0fa-499fe957ad37",
   "metadata": {},
   "outputs": [
    {
     "name": "stderr",
     "output_type": "stream",
     "text": [
      "/tmp/ipykernel_3388542/2733262759.py:3: SettingWithCopyWarning: \n",
      "A value is trying to be set on a copy of a slice from a DataFrame.\n",
      "Try using .loc[row_indexer,col_indexer] = value instead\n",
      "\n",
      "See the caveats in the documentation: https://pandas.pydata.org/pandas-docs/stable/user_guide/indexing.html#returning-a-view-versus-a-copy\n",
      "  df_mimic_cxr_metadata_subset['note'] = df_mimic_cxr_metadata_subset.apply(add_image_note,axis=1)\n"
     ]
    }
   ],
   "source": [
    "df_mimic_cxr_metadata_subset = df_mimic_cxr_metadata.head(10)\n",
    "df_mimic_cxr_metadata_subset.iloc[0,2] = 43526281\n",
    "df_mimic_cxr_metadata_subset['note'] = df_mimic_cxr_metadata_subset.apply(add_image_note,axis=1)"
   ]
  },
  {
   "cell_type": "code",
   "execution_count": 87,
   "id": "b7853496-3be4-48d9-9d30-1b01c683c94c",
   "metadata": {},
   "outputs": [],
   "source": [
    "merged = dd.merge(df_mimic_cxr_metadata_subset, df_mimic_cxr_chexpert, on=['subject_id','study_id'], how='inner')"
   ]
  },
  {
   "cell_type": "code",
   "execution_count": 99,
   "id": "e32d43e9-c969-4bd2-8919-4bc789777f11",
   "metadata": {},
   "outputs": [
    {
     "data": {
      "text/plain": [
       "0.0"
      ]
     },
     "execution_count": 99,
     "metadata": {},
     "output_type": "execute_result"
    }
   ],
   "source": [
    "sum(merged['note'] == '')/len(merged)"
   ]
  },
  {
   "cell_type": "code",
   "execution_count": 61,
   "id": "0eb5e471-51c7-46af-8cac-d617326cf904",
   "metadata": {},
   "outputs": [
    {
     "name": "stderr",
     "output_type": "stream",
     "text": [
      "/tmp/ipykernel_3388542/1930225417.py:1: SettingWithCopyWarning: \n",
      "A value is trying to be set on a copy of a slice from a DataFrame.\n",
      "Try using .loc[row_indexer,col_indexer] = value instead\n",
      "\n",
      "See the caveats in the documentation: https://pandas.pydata.org/pandas-docs/stable/user_guide/indexing.html#returning-a-view-versus-a-copy\n",
      "  df_mimic_cxr_metadata_subset['note'] = df_mimic_cxr_metadata_subset.apply(add_image_note,axis=1)\n"
     ]
    }
   ],
   "source": [
    "df_mimic_cxr_metadata_subset['note'] = df_mimic_cxr_metadata_subset.apply(add_image_note,axis=1)"
   ]
  },
  {
   "cell_type": "code",
   "execution_count": 63,
   "id": "e74a14cb-128e-4b23-97b9-15d8221a45b7",
   "metadata": {},
   "outputs": [
    {
     "data": {
      "text/plain": [
       "0     True\n",
       "2    False\n",
       "Name: note, dtype: bool"
      ]
     },
     "execution_count": 63,
     "metadata": {},
     "output_type": "execute_result"
    }
   ],
   "source": [
    "df_mimic_cxr_metadata_subset['note'] == ''"
   ]
  },
  {
   "cell_type": "code",
   "execution_count": 34,
   "id": "7a3001f4-664a-4adc-a793-7a93c721c5b2",
   "metadata": {},
   "outputs": [
    {
     "name": "stdout",
     "output_type": "stream",
     "text": [
      "/nfs/turbo/med-kayvan-lab/Projects/HeartFailure/Data/Raw/physionet.org/files/mimic-cxr/2.0.0/files/p10/p10000032/s50414267.txt\n",
      "/nfs/turbo/med-kayvan-lab/Projects/HeartFailure/Data/Raw/physionet.org/files/mimic-cxr/2.0.0/files/p10/p10000032/s50414267.txt\n"
     ]
    }
   ],
   "source": [
    "for index, row in df_mimic_cxr_metadata.iterrows():\n",
    "    prefix = 'p' + str(row['subject_id'])[:2]\n",
    "    pat = 'p' + str(int(row['subject_id']))\n",
    "    study = 's'+ str(int(row['study_id']))\n",
    "    pat_path = os.path.join(mimic_cxr_note_dir,prefix,pat)\n",
    "    \n",
    "    # example: /nfs/turbo/med-kayvan-lab/Projects/HeartFailure/Data/Raw/physionet.org/files/mimic-cxr/2.0.0/files/p10/p10000032/s50414267.txt\n",
    "    txt_file_name = Path(os.path.join(pat_path,f'{study}.txt'))\n",
    "    if txt_file_name.is_file():\n",
    "        note = open(txt_file_name, \"r\", errors='ignore')\n",
    "        img_note_text = note.read()\n",
    "        note.close()\n",
    "        break"
   ]
  },
  {
   "cell_type": "code",
   "execution_count": 30,
   "id": "3d0e1694-d78b-4aa9-b5a3-192d1c0571b4",
   "metadata": {},
   "outputs": [],
   "source": [
    "mimic_cxr_jpg_dir = '/nfs/turbo/med-kayvan-lab/Projects/HeartFailure/Data/Raw/physionet.org/files/mimic-cxr-jpg/2.0.0/files/'"
   ]
  },
  {
   "cell_type": "code",
   "execution_count": null,
   "id": "da922e54-05a0-46c7-8792-3a36dcbec197",
   "metadata": {},
   "outputs": [],
   "source": [
    "def build_mimic_cxr_jpg_dataframe(core_mimiciv_imgcxr_path, do_save=False):\n",
    "\n",
    "    df_mimic_cxr_jpg = pd.DataFrame()\n",
    "    mimic_cxr_jpg_dir = core_mimiciv_imgcxr_path\n",
    "    \n",
    "    #Figure out how many files we will read\n",
    "    file_count = 0\n",
    "    for subdir, dirs, files in os.walk(mimic_cxr_jpg_dir):\n",
    "        for file in files:\n",
    "            # Extract filename and extension to filter by CSV only\n",
    "            filename, extension = os.path.splitext(file)\n",
    "            if extension=='.txt':\n",
    "                file_count = file_count + 1\n",
    "                \n",
    "    #Setup progress bar\n",
    "    pbar = tqdm(total=file_count)\n",
    "    \n",
    "    #Iterate\n",
    "    for subdir, dirs, files in os.walk(mimic_cxr_jpg_dir):\n",
    "        for file in files:\n",
    "            # Extract filename and extension to filter by CSV only\n",
    "            filename, extension = os.path.splitext(file)\n",
    "            if extension=='.txt':\n",
    "                note = open(subdir + '/' + filename + extension, \"r\", errors='ignore')\n",
    "                img_note_text = note.read()\n",
    "                note.close()\n",
    "                img_folder = subdir + '/' + filename\n",
    "                \n",
    "                for img_subdir, img_dirs, img_files in os.walk(img_folder):\n",
    "                    for img_file in img_files:\n",
    "                        # Extract filename and extension to filter by CSV only\n",
    "                        img_filename, img_extension = os.path.splitext(img_file)\n",
    "                        if img_extension=='.jpg':\n",
    "                            df_mimic_cxr_jpg = df_mimic_cxr_jpg.append({'Note_folder': subdir.replace(core_mimiciv_imgcxr_path,''), 'Note_file': filename + extension , 'Note': img_note_text, 'Img_Folder': img_folder.replace(core_mimiciv_imgcxr_path,''), 'Img_Filename': img_filename + img_extension, 'dicom_id': img_filename}, ignore_index=True)\n",
    "                            \n",
    "        #Update progress bar\n",
    "        pbar.update(1)\n",
    "        \n",
    "    #Save\n",
    "    if do_save:\n",
    "        try:\n",
    "            df_mimic_cxr_jpg.to_csv(core_mimiciv_imgcxr_path + '/mimic-cxr-2.0.0-jpeg-txt.csv')\n",
    "        except Exception as e:\n",
    "            print(e)\n",
    "        \n",
    "    return df_mimic_cxr_jpg"
   ]
  },
  {
   "cell_type": "markdown",
   "id": "6346142e-6e22-455c-9d7d-e00f4c84e5d2",
   "metadata": {},
   "source": [
    "## CXR note"
   ]
  },
  {
   "cell_type": "code",
   "execution_count": null,
   "id": "aa37237a-9ef6-44c4-adf8-d02d6f7c466e",
   "metadata": {},
   "outputs": [],
   "source": [
    "# the note is in the \n",
    "note_path = '/nfs/turbo/med-kayvan-lab/Projects/HeartFailure/Data/Raw/physionet.org/files/mimic-cxr/2.0.0/files/'"
   ]
  },
  {
   "cell_type": "code",
   "execution_count": 5,
   "id": "f1689f7b-28d6-4eaa-91df-a54ac94eef9b",
   "metadata": {},
   "outputs": [],
   "source": [
    "note_path = '/nfs/turbo/med-kayvan-lab/Projects/HeartFailure/Data/Raw/physionet.org/files/mimic-iv-note/2.2/note'"
   ]
  },
  {
   "cell_type": "code",
   "execution_count": 6,
   "id": "b70c64ac-8cb6-4155-b8be-6c74409b98f1",
   "metadata": {},
   "outputs": [],
   "source": [
    "data = pd.read_csv(os.path.join(note_path,'radiology.csv')).dropna()"
   ]
  },
  {
   "cell_type": "code",
   "execution_count": 7,
   "id": "08bef0b0-ab2b-4fe0-9494-a77f49b8c947",
   "metadata": {},
   "outputs": [
    {
     "data": {
      "text/html": [
       "<div>\n",
       "<style scoped>\n",
       "    .dataframe tbody tr th:only-of-type {\n",
       "        vertical-align: middle;\n",
       "    }\n",
       "\n",
       "    .dataframe tbody tr th {\n",
       "        vertical-align: top;\n",
       "    }\n",
       "\n",
       "    .dataframe thead th {\n",
       "        text-align: right;\n",
       "    }\n",
       "</style>\n",
       "<table border=\"1\" class=\"dataframe\">\n",
       "  <thead>\n",
       "    <tr style=\"text-align: right;\">\n",
       "      <th></th>\n",
       "      <th>note_id</th>\n",
       "      <th>subject_id</th>\n",
       "      <th>hadm_id</th>\n",
       "      <th>note_type</th>\n",
       "      <th>note_seq</th>\n",
       "      <th>charttime</th>\n",
       "      <th>storetime</th>\n",
       "      <th>text</th>\n",
       "    </tr>\n",
       "  </thead>\n",
       "  <tbody>\n",
       "    <tr>\n",
       "      <th>0</th>\n",
       "      <td>10000032-RR-14</td>\n",
       "      <td>10000032</td>\n",
       "      <td>22595853.0</td>\n",
       "      <td>RR</td>\n",
       "      <td>14</td>\n",
       "      <td>2180-05-06 21:19:00</td>\n",
       "      <td>2180-05-06 23:32:00</td>\n",
       "      <td>EXAMINATION:  CHEST (PA AND LAT)\\n\\nINDICATION...</td>\n",
       "    </tr>\n",
       "    <tr>\n",
       "      <th>1</th>\n",
       "      <td>10000032-RR-15</td>\n",
       "      <td>10000032</td>\n",
       "      <td>22595853.0</td>\n",
       "      <td>RR</td>\n",
       "      <td>15</td>\n",
       "      <td>2180-05-06 23:00:00</td>\n",
       "      <td>2180-05-06 23:26:00</td>\n",
       "      <td>EXAMINATION:  LIVER OR GALLBLADDER US (SINGLE ...</td>\n",
       "    </tr>\n",
       "    <tr>\n",
       "      <th>2</th>\n",
       "      <td>10000032-RR-16</td>\n",
       "      <td>10000032</td>\n",
       "      <td>22595853.0</td>\n",
       "      <td>RR</td>\n",
       "      <td>16</td>\n",
       "      <td>2180-05-07 09:55:00</td>\n",
       "      <td>2180-05-07 11:15:00</td>\n",
       "      <td>INDICATION:  ___ HCV cirrhosis c/b ascites, hi...</td>\n",
       "    </tr>\n",
       "    <tr>\n",
       "      <th>6</th>\n",
       "      <td>10000032-RR-22</td>\n",
       "      <td>10000032</td>\n",
       "      <td>22841357.0</td>\n",
       "      <td>RR</td>\n",
       "      <td>22</td>\n",
       "      <td>2180-06-26 17:15:00</td>\n",
       "      <td>2180-06-26 19:28:00</td>\n",
       "      <td>EXAMINATION:  LIVER OR GALLBLADDER US (SINGLE ...</td>\n",
       "    </tr>\n",
       "    <tr>\n",
       "      <th>7</th>\n",
       "      <td>10000032-RR-23</td>\n",
       "      <td>10000032</td>\n",
       "      <td>22841357.0</td>\n",
       "      <td>RR</td>\n",
       "      <td>23</td>\n",
       "      <td>2180-06-26 17:17:00</td>\n",
       "      <td>2180-06-26 17:28:00</td>\n",
       "      <td>EXAMINATION:  CHEST (PA AND LAT)\\n\\nINDICATION...</td>\n",
       "    </tr>\n",
       "    <tr>\n",
       "      <th>...</th>\n",
       "      <td>...</td>\n",
       "      <td>...</td>\n",
       "      <td>...</td>\n",
       "      <td>...</td>\n",
       "      <td>...</td>\n",
       "      <td>...</td>\n",
       "      <td>...</td>\n",
       "      <td>...</td>\n",
       "    </tr>\n",
       "    <tr>\n",
       "      <th>2321350</th>\n",
       "      <td>19999987-RR-17</td>\n",
       "      <td>19999987</td>\n",
       "      <td>23865745.0</td>\n",
       "      <td>RR</td>\n",
       "      <td>17</td>\n",
       "      <td>2145-11-02 22:37:00</td>\n",
       "      <td>2145-11-03 18:55:00</td>\n",
       "      <td>HISTORY:  ___, with left occipital bleeding.  ...</td>\n",
       "    </tr>\n",
       "    <tr>\n",
       "      <th>2321351</th>\n",
       "      <td>19999987-RR-18</td>\n",
       "      <td>19999987</td>\n",
       "      <td>23865745.0</td>\n",
       "      <td>RR</td>\n",
       "      <td>18</td>\n",
       "      <td>2145-11-03 04:35:00</td>\n",
       "      <td>2145-11-03 10:46:00</td>\n",
       "      <td>INDICATION:  ___ female intubated for head ble...</td>\n",
       "    </tr>\n",
       "    <tr>\n",
       "      <th>2321352</th>\n",
       "      <td>19999987-RR-19</td>\n",
       "      <td>19999987</td>\n",
       "      <td>23865745.0</td>\n",
       "      <td>RR</td>\n",
       "      <td>19</td>\n",
       "      <td>2145-11-03 16:40:00</td>\n",
       "      <td>2145-11-04 08:36:00</td>\n",
       "      <td>HISTORY:  ___ woman with left occipital hemorr...</td>\n",
       "    </tr>\n",
       "    <tr>\n",
       "      <th>2321353</th>\n",
       "      <td>19999987-RR-20</td>\n",
       "      <td>19999987</td>\n",
       "      <td>23865745.0</td>\n",
       "      <td>RR</td>\n",
       "      <td>20</td>\n",
       "      <td>2145-11-04 05:10:00</td>\n",
       "      <td>2145-11-04 08:58:00</td>\n",
       "      <td>PORTABLE CHEST OF ___\\n\\nCOMPARISON:  ___ radi...</td>\n",
       "    </tr>\n",
       "    <tr>\n",
       "      <th>2321354</th>\n",
       "      <td>19999987-RR-21</td>\n",
       "      <td>19999987</td>\n",
       "      <td>23865745.0</td>\n",
       "      <td>RR</td>\n",
       "      <td>21</td>\n",
       "      <td>2145-11-07 15:18:00</td>\n",
       "      <td>2145-11-08 16:44:00</td>\n",
       "      <td>DATE OF SERVICE:  ___.\\n\\nPRE-OPERATIVE DIAGNO...</td>\n",
       "    </tr>\n",
       "  </tbody>\n",
       "</table>\n",
       "<p>1144758 rows × 8 columns</p>\n",
       "</div>"
      ],
      "text/plain": [
       "                note_id  subject_id     hadm_id note_type  note_seq  \\\n",
       "0        10000032-RR-14    10000032  22595853.0        RR        14   \n",
       "1        10000032-RR-15    10000032  22595853.0        RR        15   \n",
       "2        10000032-RR-16    10000032  22595853.0        RR        16   \n",
       "6        10000032-RR-22    10000032  22841357.0        RR        22   \n",
       "7        10000032-RR-23    10000032  22841357.0        RR        23   \n",
       "...                 ...         ...         ...       ...       ...   \n",
       "2321350  19999987-RR-17    19999987  23865745.0        RR        17   \n",
       "2321351  19999987-RR-18    19999987  23865745.0        RR        18   \n",
       "2321352  19999987-RR-19    19999987  23865745.0        RR        19   \n",
       "2321353  19999987-RR-20    19999987  23865745.0        RR        20   \n",
       "2321354  19999987-RR-21    19999987  23865745.0        RR        21   \n",
       "\n",
       "                   charttime            storetime  \\\n",
       "0        2180-05-06 21:19:00  2180-05-06 23:32:00   \n",
       "1        2180-05-06 23:00:00  2180-05-06 23:26:00   \n",
       "2        2180-05-07 09:55:00  2180-05-07 11:15:00   \n",
       "6        2180-06-26 17:15:00  2180-06-26 19:28:00   \n",
       "7        2180-06-26 17:17:00  2180-06-26 17:28:00   \n",
       "...                      ...                  ...   \n",
       "2321350  2145-11-02 22:37:00  2145-11-03 18:55:00   \n",
       "2321351  2145-11-03 04:35:00  2145-11-03 10:46:00   \n",
       "2321352  2145-11-03 16:40:00  2145-11-04 08:36:00   \n",
       "2321353  2145-11-04 05:10:00  2145-11-04 08:58:00   \n",
       "2321354  2145-11-07 15:18:00  2145-11-08 16:44:00   \n",
       "\n",
       "                                                      text  \n",
       "0        EXAMINATION:  CHEST (PA AND LAT)\\n\\nINDICATION...  \n",
       "1        EXAMINATION:  LIVER OR GALLBLADDER US (SINGLE ...  \n",
       "2        INDICATION:  ___ HCV cirrhosis c/b ascites, hi...  \n",
       "6        EXAMINATION:  LIVER OR GALLBLADDER US (SINGLE ...  \n",
       "7        EXAMINATION:  CHEST (PA AND LAT)\\n\\nINDICATION...  \n",
       "...                                                    ...  \n",
       "2321350  HISTORY:  ___, with left occipital bleeding.  ...  \n",
       "2321351  INDICATION:  ___ female intubated for head ble...  \n",
       "2321352  HISTORY:  ___ woman with left occipital hemorr...  \n",
       "2321353  PORTABLE CHEST OF ___\\n\\nCOMPARISON:  ___ radi...  \n",
       "2321354  DATE OF SERVICE:  ___.\\n\\nPRE-OPERATIVE DIAGNO...  \n",
       "\n",
       "[1144758 rows x 8 columns]"
      ]
     },
     "execution_count": 7,
     "metadata": {},
     "output_type": "execute_result"
    }
   ],
   "source": [
    "data"
   ]
  },
  {
   "cell_type": "code",
   "execution_count": 27,
   "id": "731cfdc3-68a3-4818-b27e-95ff1973c739",
   "metadata": {},
   "outputs": [],
   "source": [
    "data[['subject_id', 'hadm_id']] = data[['subject_id', 'hadm_id']].astype('int64')"
   ]
  },
  {
   "cell_type": "code",
   "execution_count": 28,
   "id": "d86bbd0c-34d1-4e4c-aa85-2d644a0d301f",
   "metadata": {},
   "outputs": [],
   "source": [
    "data['charttime'] = pd.to_datetime(data['charttime'])\n",
    "data['storetime'] = pd.to_datetime(data['storetime'])"
   ]
  },
  {
   "cell_type": "code",
   "execution_count": 29,
   "id": "fc52508a-b20c-427c-a8bd-26497787a4a2",
   "metadata": {},
   "outputs": [],
   "source": [
    "data['text'] = data.apply(lambda x: x['text'].replace('\\n', ' '), axis=1)"
   ]
  },
  {
   "cell_type": "code",
   "execution_count": 32,
   "id": "a6715e5b-d4fb-46d1-a96a-4ed86db29dee",
   "metadata": {},
   "outputs": [],
   "source": [
    "data['text'] = data.apply(lambda x: gensim.utils.simple_preprocess(x['text']), axis=1)"
   ]
  },
  {
   "cell_type": "code",
   "execution_count": 33,
   "id": "8a2dd17d-1cb1-4333-ac69-463d7d706870",
   "metadata": {},
   "outputs": [
    {
     "data": {
      "text/plain": [
       "0          [examination, chest, pa, and, lat, indication,...\n",
       "1          [examination, liver, or, gallbladder, us, sing...\n",
       "2          [indication, hcv, cirrhosis, ascites, hiv, on,...\n",
       "6          [examination, liver, or, gallbladder, us, sing...\n",
       "7          [examination, chest, pa, and, lat, indication,...\n",
       "                                 ...                        \n",
       "2321350    [history, with, left, occipital, bleeding, ass...\n",
       "2321351    [indication, female, intubated, for, head, ble...\n",
       "2321352    [history, woman, with, left, occipital, hemorr...\n",
       "2321353    [portable, chest, of, comparison, radiograph, ...\n",
       "2321354    [date, of, service, pre, operative, diagnosis,...\n",
       "Name: text, Length: 1144758, dtype: object"
      ]
     },
     "execution_count": 33,
     "metadata": {},
     "output_type": "execute_result"
    }
   ],
   "source": [
    "data['text']"
   ]
  },
  {
   "cell_type": "code",
   "execution_count": 8,
   "id": "215bee8c-ad56-4ea9-9710-70299e0ea051",
   "metadata": {},
   "outputs": [
    {
     "data": {
      "text/plain": [
       "(1144758, 8)"
      ]
     },
     "execution_count": 8,
     "metadata": {},
     "output_type": "execute_result"
    }
   ],
   "source": [
    "data.shape"
   ]
  },
  {
   "cell_type": "code",
   "execution_count": 17,
   "id": "d6720f31-edcd-4295-b78c-3469630fcf17",
   "metadata": {},
   "outputs": [
    {
     "data": {
      "text/html": [
       "<div>\n",
       "<style scoped>\n",
       "    .dataframe tbody tr th:only-of-type {\n",
       "        vertical-align: middle;\n",
       "    }\n",
       "\n",
       "    .dataframe tbody tr th {\n",
       "        vertical-align: top;\n",
       "    }\n",
       "\n",
       "    .dataframe thead th {\n",
       "        text-align: right;\n",
       "    }\n",
       "</style>\n",
       "<table border=\"1\" class=\"dataframe\">\n",
       "  <thead>\n",
       "    <tr style=\"text-align: right;\">\n",
       "      <th></th>\n",
       "      <th>note_id</th>\n",
       "      <th>subject_id</th>\n",
       "      <th>hadm_id</th>\n",
       "      <th>note_type</th>\n",
       "      <th>note_seq</th>\n",
       "      <th>charttime</th>\n",
       "      <th>storetime</th>\n",
       "      <th>text</th>\n",
       "    </tr>\n",
       "  </thead>\n",
       "  <tbody>\n",
       "    <tr>\n",
       "      <th>228974</th>\n",
       "      <td>10999333-RR-12</td>\n",
       "      <td>10999333</td>\n",
       "      <td>27249872.0</td>\n",
       "      <td>RR</td>\n",
       "      <td>12</td>\n",
       "      <td>2129-11-17 15:54:00</td>\n",
       "      <td>2129-11-17 17:24:00</td>\n",
       "      <td>INDICATION:  ___ with elevated BNP, wheezing  ...</td>\n",
       "    </tr>\n",
       "  </tbody>\n",
       "</table>\n",
       "</div>"
      ],
      "text/plain": [
       "               note_id  subject_id     hadm_id note_type  note_seq  \\\n",
       "228974  10999333-RR-12    10999333  27249872.0        RR        12   \n",
       "\n",
       "                  charttime            storetime  \\\n",
       "228974  2129-11-17 15:54:00  2129-11-17 17:24:00   \n",
       "\n",
       "                                                     text  \n",
       "228974  INDICATION:  ___ with elevated BNP, wheezing  ...  "
      ]
     },
     "execution_count": 17,
     "metadata": {},
     "output_type": "execute_result"
    }
   ],
   "source": [
    "data[data['subject_id']== 10999333]"
   ]
  },
  {
   "cell_type": "code",
   "execution_count": 22,
   "id": "742de9d0-7ade-4c81-95a2-eebadf7587c2",
   "metadata": {},
   "outputs": [],
   "source": [
    "def fill_negative(x):\n",
    "    if x == -1:\n",
    "        return 1\n",
    "    else:\n",
    "        return x"
   ]
  },
  {
   "cell_type": "code",
   "execution_count": 19,
   "id": "ffb6c4d8-ce20-4383-b86b-e3d40f82d2f0",
   "metadata": {},
   "outputs": [
    {
     "ename": "SyntaxError",
     "evalue": "invalid syntax (3901394992.py, line 7)",
     "output_type": "error",
     "traceback": [
      "\u001b[0;36m  Input \u001b[0;32mIn [19]\u001b[0;36m\u001b[0m\n\u001b[0;31m    tbl[columns_to_update] = tbl[columns_to_update].apply(lambda x: return 1 if x == -1 else x)\u001b[0m\n\u001b[0m                                                                    ^\u001b[0m\n\u001b[0;31mSyntaxError\u001b[0m\u001b[0;31m:\u001b[0m invalid syntax\n"
     ]
    }
   ],
   "source": [
    "columns_to_update = [\n",
    "    'Atelectasis', 'Cardiomegaly', 'Consolidation', 'Edema',\n",
    "    'Enlarged Cardiomediastinum', 'Fracture', 'Lung Lesion',\n",
    "    'Lung Opacity', 'No Finding', 'Pleural Effusion',\n",
    "    'Pleural Other', 'Pneumonia', 'Pneumothorax', 'Support Devices'\n",
    "]\n",
    "tbl[columns_to_update] = tbl[columns_to_update].apply(lambda x: 1 if x == -1 else x)"
   ]
  },
  {
   "cell_type": "code",
   "execution_count": 46,
   "id": "43725bab-5108-4a0f-a40d-b2821f808a4f",
   "metadata": {},
   "outputs": [],
   "source": [
    "tbl.loc[:, columns_to_update] = tbl.loc[:, columns_to_update].replace(-1, 0)"
   ]
  },
  {
   "cell_type": "code",
   "execution_count": 17,
   "id": "1e292fc5-7f0b-4cc8-b734-82f10791447c",
   "metadata": {},
   "outputs": [],
   "source": [
    "tbl[['Atelectasis',\n",
    "       'Cardiomegaly', 'Consolidation', 'Edema', 'Enlarged Cardiomediastinum',\n",
    "       'Fracture', 'Lung Lesion', 'Lung Opacity', 'No Finding',\n",
    "       'Pleural Effusion', 'Pleural Other', 'Pneumonia', 'Pneumothorax',\n",
    "       'Support Devices']] = tbl[['Atelectasis',\n",
    "       'Cardiomegaly', 'Consolidation', 'Edema', 'Enlarged Cardiomediastinum',\n",
    "       'Fracture', 'Lung Lesion', 'Lung Opacity', 'No Finding',\n",
    "       'Pleural Effusion', 'Pleural Other', 'Pneumonia', 'Pneumothorax',\n",
    "       'Support Devices']].fillna(0)"
   ]
  },
  {
   "cell_type": "markdown",
   "id": "111f5215-4d1c-421f-a349-b04455f4ec56",
   "metadata": {},
   "source": [
    "## test dataset"
   ]
  },
  {
   "cell_type": "code",
   "execution_count": null,
   "id": "a83c8d5e-0725-4d1b-9526-4e5c39c03fe3",
   "metadata": {},
   "outputs": [],
   "source": [
    "from pathlib import Path\n",
    "import torchxrayvision.datasets as xrv_data\n",
    "import numpy as np\n",
    "import pandas as pd\n",
    "from skimage.io import imread\n",
    "import torch, random\n",
    "from torch.utils.data import Dataset\n",
    "\n",
    "def apply_transforms(sample, transform, seed=None, transform_seg=False):\n",
    "    if seed is None:\n",
    "        MAX_RAND_VAL = 2147483647\n",
    "        seed = np.random.randint(MAX_RAND_VAL)\n",
    "\n",
    "    if transform is not None:\n",
    "        random.seed(seed)\n",
    "        torch.random.manual_seed(seed)\n",
    "        sample[\"img\"] = transform(sample[\"img\"])\n",
    "\n",
    "    return sample\n",
    "\n",
    "class MIMIC_CXRDataset(xrv_data.Dataset):\n",
    "    \"\"\"\n",
    "    Input:\n",
    "        csvpath <python str>: path to the csv file\n",
    "        views <python list>: list of views to use\n",
    "        seed <python int>: seed for randomization\n",
    "        unique_patients <python bool>: if True, only use one image per patient\n",
    "        transforms <torchvision.transforms>: transforms to apply to the image\n",
    "        xrv_normalize <python bool>: if True, normalize the image using the xrv normalize function\n",
    "    \"\"\"\n",
    "\n",
    "    def __init__(self,\n",
    "                 csvpath,\n",
    "                 views=[\"PA\", \"AP\"],\n",
    "                 seed=42,\n",
    "                 unique_patients=True,\n",
    "                 transforms=None,\n",
    "                 xrv_normalize=0\n",
    "                 ):\n",
    "\n",
    "        super(MIMIC_CXRDataset, self).__init__()\n",
    "        np.random.seed(seed)  # Reset the seed so all runs are the same.\n",
    "\n",
    "        self.img_root = '/nfs/turbo/med-kayvan-lab/Projects/HeartFailure/Data/Raw/physionet.org/files/mimic-cxr-jpg/2.0.0/files/'\n",
    "        self.transforms = transforms\n",
    "        self.xrv_normalize = xrv_normalize\n",
    "        self.label_columns = ['Atelectasis',\n",
    "                   'Cardiomegaly', 'Consolidation', 'Edema', 'Enlarged Cardiomediastinum',\n",
    "                   'Fracture', 'Lung Lesion', 'Lung Opacity', 'No Finding',\n",
    "                   'Pleural Effusion', 'Pleural Other', 'Pneumonia', 'Pneumothorax',\n",
    "                   'Support Devices']\n",
    "\n",
    "        self.csvpath = csvpath\n",
    "        self.csv = pd.read_csv(self.csvpath)\n",
    "        \n",
    "        self.labels = self.csv[self.label_columns]\n",
    "        self.labels = self.labels.fillna(0)\n",
    "        self.labels = self.labels.replace(-1, 0)\n",
    "        \n",
    "        \n",
    "\n",
    "    @property\n",
    "    def csv_file(self):\n",
    "        return self.csv\n",
    "    \n",
    "    def __len__(self):\n",
    "        return self.csv.shape[0]\n",
    "    \n",
    "    def get_img_path(self,idx):\n",
    "        row = self.csv.iloc[idx,:]\n",
    "        prefix = 'p' + str(row['subject_id'])[:2]\n",
    "        pat = 'p' + str(int(row['subject_id']))\n",
    "        study = 's'+ str(int(row['study_id']))\n",
    "        dicom_id = str(int(row['dicom_id'])) \n",
    "        pat_path = os.path.join(mimic_cxr_note_dir,prefix,pat)\n",
    "        jpg_name = Path(os.path.join(pat_path,f'{dicom_id}.jpg'))\n",
    "        \n",
    "        return jpg_name\n",
    "\n",
    "    def __getitem__(self, idx):\n",
    "\n",
    "        sample = {}\n",
    "        sample[\"idx\"] = idx\n",
    "        \n",
    "        img_path = get_img_path(idx)\n",
    "\n",
    "        if self.xrv_normalize == 1:\n",
    "            # single channel output renormliazed to [-1024, 1024]\n",
    "            sample[\"img\"] = xrv_data.normalize(imread(str(img_path)), maxval=255, reshape=True)\n",
    "        elif self.xrv_normalize == 0:\n",
    "            # single channel output renormliazed to [0, 1]\n",
    "            sample[\"img\"] = imread(str(img_path), as_gray=True).astype(np.float32) / 255.\n",
    "        elif self.xrv_normalize == 2:\n",
    "            # single channel output renormliazed to [0, 255]\n",
    "            img = imread(str(img_path), as_gray=True)\n",
    "            img = ((img - img.min()) / (img.max() - img.min())) * 255.\n",
    "            img = img.astype('uint8')\n",
    "            sample[\"img\"] = img\n",
    "\n",
    "        if self.transforms is not None:\n",
    "            sample = apply_transforms(sample, self.transforms)\n",
    "\n",
    "        return sample"
   ]
  }
 ],
 "metadata": {
  "kernelspec": {
   "display_name": "Python 3",
   "language": "python",
   "name": "python3"
  },
  "language_info": {
   "codemirror_mode": {
    "name": "ipython",
    "version": 3
   },
   "file_extension": ".py",
   "mimetype": "text/x-python",
   "name": "python",
   "nbconvert_exporter": "python",
   "pygments_lexer": "ipython3",
   "version": "3.9.6"
  }
 },
 "nbformat": 4,
 "nbformat_minor": 5
}

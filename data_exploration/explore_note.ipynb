{
 "cells": [
  {
   "cell_type": "code",
   "execution_count": 1,
   "id": "2e472cfc-0dc8-4f40-90b3-7013495a7b44",
   "metadata": {},
   "outputs": [
    {
     "name": "stderr",
     "output_type": "stream",
     "text": [
      "/home/chloezh/miniconda3/envs/pytorch_env/lib/python3.9/site-packages/tqdm/auto.py:22: TqdmWarning: IProgress not found. Please update jupyter and ipywidgets. See https://ipywidgets.readthedocs.io/en/stable/user_install.html\n",
      "  from .autonotebook import tqdm as notebook_tqdm\n"
     ]
    }
   ],
   "source": [
    "import dask.dataframe as dd\n",
    "import datetime as dt\n",
    "import cv2\n",
    "import numpy as np\n",
    "import torch\n",
    "from torch.utils.data import Dataset\n",
    "from sklearn.model_selection import train_test_split\n",
    "import pandas as pd\n",
    "import os\n",
    "from pathlib import Path\n",
    "import gensim"
   ]
  },
  {
   "cell_type": "code",
   "execution_count": 2,
   "id": "2dce2821-67fa-4506-a6ea-78834125533f",
   "metadata": {},
   "outputs": [],
   "source": [
    "mimiciv_path = '/nfs/turbo/med-kayvan-lab/Projects/HeartFailure/Data/Raw/physionet.org/files/'"
   ]
  },
  {
   "cell_type": "code",
   "execution_count": 3,
   "id": "5b2a558e-d42e-44ac-833e-3391b1399efb",
   "metadata": {},
   "outputs": [],
   "source": [
    "tbl = pd.read_csv('mimic_cxr_note_chexpert.csv')"
   ]
  },
  {
   "cell_type": "code",
   "execution_count": 5,
   "id": "4fd493d2-fba0-4239-b8da-aaa92e0c3cb3",
   "metadata": {},
   "outputs": [
    {
     "data": {
      "text/plain": [
       "Index(['dicom_id', 'subject_id', 'study_id',\n",
       "       'PerformedProcedureStepDescription', 'ViewPosition', 'Rows', 'Columns',\n",
       "       'StudyDate', 'StudyTime', 'ProcedureCodeSequence_CodeMeaning',\n",
       "       'ViewCodeSequence_CodeMeaning',\n",
       "       'PatientOrientationCodeSequence_CodeMeaning', 'note', 'Atelectasis',\n",
       "       'Cardiomegaly', 'Consolidation', 'Edema', 'Enlarged Cardiomediastinum',\n",
       "       'Fracture', 'Lung Lesion', 'Lung Opacity', 'No Finding',\n",
       "       'Pleural Effusion', 'Pleural Other', 'Pneumonia', 'Pneumothorax',\n",
       "       'Support Devices'],\n",
       "      dtype='object')"
      ]
     },
     "execution_count": 5,
     "metadata": {},
     "output_type": "execute_result"
    }
   ],
   "source": [
    "tbl.columns "
   ]
  },
  {
   "cell_type": "code",
   "execution_count": 10,
   "id": "5be44e5f-1cde-4d7f-b0ff-a35aab50fde7",
   "metadata": {},
   "outputs": [
    {
     "name": "stderr",
     "output_type": "stream",
     "text": [
      "Some weights of the model checkpoint at medicalai/ClinicalBERT were not used when initializing DistilBertModel: ['vocab_transform.bias', 'vocab_transform.weight', 'vocab_layer_norm.bias', 'vocab_layer_norm.weight', 'vocab_projector.weight', 'vocab_projector.bias']\n",
      "- This IS expected if you are initializing DistilBertModel from the checkpoint of a model trained on another task or with another architecture (e.g. initializing a BertForSequenceClassification model from a BertForPreTraining model).\n",
      "- This IS NOT expected if you are initializing DistilBertModel from the checkpoint of a model that you expect to be exactly identical (initializing a BertForSequenceClassification model from a BertForSequenceClassification model).\n"
     ]
    }
   ],
   "source": [
    "from transformers import AutoTokenizer, AutoModel\n",
    "tokenizer = AutoTokenizer.from_pretrained(\"medicalai/ClinicalBERT\")\n",
    "model = AutoModel.from_pretrained(\"medicalai/ClinicalBERT\")"
   ]
  },
  {
   "cell_type": "code",
   "execution_count": 7,
   "id": "de9b95dd-2269-4870-95fd-86015389e4dd",
   "metadata": {},
   "outputs": [],
   "source": [
    "tbl['note'] = tbl.apply(lambda x: x['note'].replace('\\n', ' '), axis=1)\n",
    "tbl['note'] = tbl.apply(lambda x: x['note'].replace('\\\\', ' ').strip(), axis=1)"
   ]
  },
  {
   "cell_type": "code",
   "execution_count": 9,
   "id": "486f0e54-644c-4b60-b1dd-da15e409de84",
   "metadata": {},
   "outputs": [
    {
     "data": {
      "text/plain": [
       "'FINAL REPORT  EXAMINATION:  CHEST (PA AND LAT)    INDICATION:  ___F with new onset ascites  // eval for infection    TECHNIQUE:  Chest PA and lateral    COMPARISON:  None.    FINDINGS:     There is no focal consolidation, pleural effusion or pneumothorax.  Bilateral  nodular opacities that most likely represent nipple shadows. The  cardiomediastinal silhouette is normal.  Clips project over the left lung,  potentially within the breast. The imaged upper abdomen is unremarkable.  Chronic deformity of the posterior left sixth and seventh ribs are noted.    IMPRESSION:     No acute cardiopulmonary process.'"
      ]
     },
     "execution_count": 9,
     "metadata": {},
     "output_type": "execute_result"
    }
   ],
   "source": [
    "tbl['note'].iloc[0]"
   ]
  },
  {
   "cell_type": "code",
   "execution_count": 24,
   "id": "90a4a2d8-ba8a-46ac-b1c3-24cf32a1d525",
   "metadata": {},
   "outputs": [],
   "source": [
    "pt_batch = tokenizer(\n",
    "    list(tbl['note'][:3]),\n",
    "    padding=True,\n",
    "    truncation=True,\n",
    "    max_length=512,\n",
    "    return_tensors=\"pt\",\n",
    ") # 768 dim; 147: num of tokens"
   ]
  },
  {
   "cell_type": "code",
   "execution_count": 47,
   "id": "83fed7d3-aa69-4bf7-8836-806b809fc83c",
   "metadata": {},
   "outputs": [],
   "source": [
    "pt_outputs = model(**pt_batch)"
   ]
  },
  {
   "cell_type": "code",
   "execution_count": 32,
   "id": "9a72e516-c07e-401a-af47-ac4664e81dce",
   "metadata": {},
   "outputs": [
    {
     "data": {
      "text/plain": [
       "torch.Size([147, 768])"
      ]
     },
     "execution_count": 32,
     "metadata": {},
     "output_type": "execute_result"
    }
   ],
   "source": [
    "pt_outputs[0][0].shape"
   ]
  },
  {
   "cell_type": "code",
   "execution_count": 51,
   "id": "37432469-4024-4430-bfee-9d53892feb58",
   "metadata": {},
   "outputs": [
    {
     "data": {
      "text/plain": [
       "'[CLS] this is a test string [SEP]'"
      ]
     },
     "execution_count": 51,
     "metadata": {},
     "output_type": "execute_result"
    }
   ],
   "source": [
    "t = 'this is a test string'\n",
    "label = 0\n",
    "toks = tokenizer(\n",
    "    t,\n",
    "    padding=True,\n",
    "    truncation=True,\n",
    "    max_length=512,\n",
    "    return_tensors=\"pt\",\n",
    ")\n",
    "tokenizer.decode(toks.get('input_ids')[0])\n",
    "# [tokenizer.decode(i) for i in pt_batch.get('input_ids')]"
   ]
  },
  {
   "cell_type": "code",
   "execution_count": null,
   "id": "c6198f1c-7017-4030-bd25-c922ca04ca58",
   "metadata": {},
   "outputs": [],
   "source": [
    "### "
   ]
  },
  {
   "cell_type": "code",
   "execution_count": 56,
   "id": "172d2079-477c-4179-a7bb-66568eda7cab",
   "metadata": {},
   "outputs": [],
   "source": [
    "h = model(**toks)"
   ]
  },
  {
   "cell_type": "code",
   "execution_count": null,
   "id": "d353c56e-28e2-4a37-898a-777d24f04b10",
   "metadata": {},
   "outputs": [],
   "source": [
    "h[0][0]"
   ]
  }
 ],
 "metadata": {
  "kernelspec": {
   "display_name": "Python 3",
   "language": "python",
   "name": "python3"
  },
  "language_info": {
   "codemirror_mode": {
    "name": "ipython",
    "version": 3
   },
   "file_extension": ".py",
   "mimetype": "text/x-python",
   "name": "python",
   "nbconvert_exporter": "python",
   "pygments_lexer": "ipython3",
   "version": "3.9.6"
  }
 },
 "nbformat": 4,
 "nbformat_minor": 5
}

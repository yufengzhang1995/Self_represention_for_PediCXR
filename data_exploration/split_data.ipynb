{
 "cells": [
  {
   "cell_type": "code",
   "execution_count": 1,
   "id": "428a8f89-4c75-4240-934b-f788c8057723",
   "metadata": {},
   "outputs": [
    {
     "name": "stderr",
     "output_type": "stream",
     "text": [
      "/home/chloezh/miniconda3/envs/pytorch_env/lib/python3.9/site-packages/tqdm/auto.py:22: TqdmWarning: IProgress not found. Please update jupyter and ipywidgets. See https://ipywidgets.readthedocs.io/en/stable/user_install.html\n",
      "  from .autonotebook import tqdm as notebook_tqdm\n"
     ]
    }
   ],
   "source": [
    "import dask.dataframe as dd\n",
    "import datetime as dt\n",
    "import cv2\n",
    "import numpy as np\n",
    "import torch\n",
    "from torch.utils.data import Dataset\n",
    "from sklearn.model_selection import train_test_split\n",
    "import pandas as pd\n",
    "import os\n",
    "from pathlib import Path\n",
    "import gensim"
   ]
  },
  {
   "cell_type": "code",
   "execution_count": 34,
   "id": "7355c6a2-46e3-43cb-a3bb-0c18e6447509",
   "metadata": {},
   "outputs": [],
   "source": [
    "tbl = pd.read_csv('mimic_cxr_note_chexpert.csv')"
   ]
  },
  {
   "cell_type": "code",
   "execution_count": 41,
   "id": "68c13dae-ec7b-4f6c-8edd-f76d02503d8b",
   "metadata": {},
   "outputs": [],
   "source": [
    "image_index = list(tbl.index)"
   ]
  },
  {
   "cell_type": "code",
   "execution_count": 4,
   "id": "0278fa67-0e24-4b11-9863-94d9b6786b80",
   "metadata": {},
   "outputs": [],
   "source": [
    "label_columns = ['Atelectasis',\n",
    "                   'Cardiomegaly', 'Consolidation', 'Edema', 'Enlarged Cardiomediastinum',\n",
    "                   'Fracture', 'Lung Lesion', 'Lung Opacity', 'No Finding',\n",
    "                   'Pleural Effusion', 'Pleural Other', 'Pneumonia', 'Pneumothorax',\n",
    "                   'Support Devices']"
   ]
  },
  {
   "cell_type": "code",
   "execution_count": 33,
   "id": "446d3b44-ab82-47a1-a580-d46affe31b94",
   "metadata": {},
   "outputs": [],
   "source": [
    "from sklearn.model_selection import StratifiedShuffleSplit\n",
    "ss = StratifiedShuffleSplit(n_splits=2, test_size=0.20, random_state=42)"
   ]
  },
  {
   "cell_type": "code",
   "execution_count": 35,
   "id": "8ed8ebbf-3a89-413f-a00b-ea1a22d23e74",
   "metadata": {},
   "outputs": [],
   "source": [
    "labels = tbl[label_columns]\n",
    "labels = labels.fillna(0)\n",
    "labels = labels.replace(-1, 0)\n",
    "tbl['level'] = np.argmax(labels.to_numpy(), axis=1)"
   ]
  },
  {
   "cell_type": "code",
   "execution_count": 37,
   "id": "11862e0d-045e-4113-92f2-186b0a4fe128",
   "metadata": {},
   "outputs": [],
   "source": [
    "index = list(ss.split(tbl.iloc[:,:-1], tbl.iloc[:,-1]))[0]"
   ]
  },
  {
   "cell_type": "code",
   "execution_count": 53,
   "id": "f84ac9f1-8c6f-4ebb-a2bb-8d5762c8d242",
   "metadata": {},
   "outputs": [
    {
     "data": {
      "text/plain": [
       "array([191349, 170553,  40403, ...,  75439,  74488, 110503])"
      ]
     },
     "execution_count": 53,
     "metadata": {},
     "output_type": "execute_result"
    }
   ],
   "source": [
    "index[0]"
   ]
  },
  {
   "cell_type": "code",
   "execution_count": 45,
   "id": "1a0ececd-cbf8-4fd8-99bd-59c0894541b5",
   "metadata": {},
   "outputs": [],
   "source": [
    "train_tbl = tbl.iloc[index[0],:]\n",
    "test_tbl = tbl.iloc[index[1],:]"
   ]
  },
  {
   "cell_type": "code",
   "execution_count": 54,
   "id": "63de2590-f3cf-468e-ad49-b4aa6bb7c3b0",
   "metadata": {},
   "outputs": [
    {
     "data": {
      "text/plain": [
       "True"
      ]
     },
     "execution_count": 54,
     "metadata": {},
     "output_type": "execute_result"
    }
   ],
   "source": [
    "train_tbl.shape[0] + test_tbl.shape[0]  == tbl.shape[0]"
   ]
  },
  {
   "cell_type": "code",
   "execution_count": 47,
   "id": "5d82eee5-8ab4-40ae-8273-e4289ad23a75",
   "metadata": {},
   "outputs": [
    {
     "data": {
      "text/plain": [
       "8     64894\n",
       "0     48074\n",
       "1     26070\n",
       "7     17682\n",
       "3      9790\n",
       "9      6754\n",
       "2      5448\n",
       "6      3043\n",
       "12     2878\n",
       "11     2686\n",
       "4      2448\n",
       "13     2418\n",
       "5      2134\n",
       "10      340\n",
       "Name: level, dtype: int64"
      ]
     },
     "execution_count": 47,
     "metadata": {},
     "output_type": "execute_result"
    }
   ],
   "source": [
    "train_tbl['level'].value_counts()"
   ]
  },
  {
   "cell_type": "code",
   "execution_count": 48,
   "id": "7fa2e52a-5d06-4738-b80a-abf5eb3b2f91",
   "metadata": {},
   "outputs": [
    {
     "data": {
      "text/plain": [
       "8     16223\n",
       "0     12019\n",
       "1      6517\n",
       "7      4421\n",
       "3      2448\n",
       "9      1689\n",
       "2      1362\n",
       "6       761\n",
       "12      720\n",
       "11      671\n",
       "4       612\n",
       "13      604\n",
       "5       533\n",
       "10       85\n",
       "Name: level, dtype: int64"
      ]
     },
     "execution_count": 48,
     "metadata": {},
     "output_type": "execute_result"
    }
   ],
   "source": [
    "test_tbl['level'].value_counts()"
   ]
  },
  {
   "cell_type": "code",
   "execution_count": 50,
   "id": "efe8680c-c24f-48ed-9f84-191416010727",
   "metadata": {},
   "outputs": [],
   "source": [
    "train_cxr_note = pd.read_csv('train_cxr_note.csv')"
   ]
  },
  {
   "cell_type": "code",
   "execution_count": 51,
   "id": "d83eccfd-40ef-4e75-a77c-88e3733073ed",
   "metadata": {},
   "outputs": [
    {
     "data": {
      "text/plain": [
       "Index(['dicom_id', 'subject_id', 'study_id',\n",
       "       'PerformedProcedureStepDescription', 'ViewPosition', 'Rows', 'Columns',\n",
       "       'StudyDate', 'StudyTime', 'ProcedureCodeSequence_CodeMeaning',\n",
       "       'ViewCodeSequence_CodeMeaning',\n",
       "       'PatientOrientationCodeSequence_CodeMeaning', 'note', 'Atelectasis',\n",
       "       'Cardiomegaly', 'Consolidation', 'Edema', 'Enlarged Cardiomediastinum',\n",
       "       'Fracture', 'Lung Lesion', 'Lung Opacity', 'No Finding',\n",
       "       'Pleural Effusion', 'Pleural Other', 'Pneumonia', 'Pneumothorax',\n",
       "       'Support Devices', 'level'],\n",
       "      dtype='object')"
      ]
     },
     "execution_count": 51,
     "metadata": {},
     "output_type": "execute_result"
    }
   ],
   "source": [
    "train_cxr_note.columns"
   ]
  }
 ],
 "metadata": {
  "kernelspec": {
   "display_name": "Python 3",
   "language": "python",
   "name": "python3"
  },
  "language_info": {
   "codemirror_mode": {
    "name": "ipython",
    "version": 3
   },
   "file_extension": ".py",
   "mimetype": "text/x-python",
   "name": "python",
   "nbconvert_exporter": "python",
   "pygments_lexer": "ipython3",
   "version": "3.9.6"
  }
 },
 "nbformat": 4,
 "nbformat_minor": 5
}
